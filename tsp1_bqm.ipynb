{
 "cells": [
  {
   "cell_type": "markdown",
   "metadata": {},
   "source": [
    "## Traveling Salesperson Problem with QUBO"
   ]
  },
  {
   "cell_type": "code",
   "execution_count": 1,
   "metadata": {},
   "outputs": [],
   "source": [
    "import numpy as np\n",
    "import pandas as pd\n",
    "from scipy.spatial import distance_matrix\n",
    "import matplotlib.pyplot as plt\n",
    "import networkx as nx"
   ]
  },
  {
   "cell_type": "code",
   "execution_count": 2,
   "metadata": {},
   "outputs": [
    {
     "data": {
      "text/html": [
       "<div>\n",
       "<style scoped>\n",
       "    .dataframe tbody tr th:only-of-type {\n",
       "        vertical-align: middle;\n",
       "    }\n",
       "\n",
       "    .dataframe tbody tr th {\n",
       "        vertical-align: top;\n",
       "    }\n",
       "\n",
       "    .dataframe thead th {\n",
       "        text-align: right;\n",
       "    }\n",
       "</style>\n",
       "<table border=\"1\" class=\"dataframe\">\n",
       "  <thead>\n",
       "    <tr style=\"text-align: right;\">\n",
       "      <th></th>\n",
       "      <th>x</th>\n",
       "      <th>y</th>\n",
       "    </tr>\n",
       "  </thead>\n",
       "  <tbody>\n",
       "    <tr>\n",
       "      <th>0</th>\n",
       "      <td>0</td>\n",
       "      <td>0</td>\n",
       "    </tr>\n",
       "    <tr>\n",
       "      <th>1</th>\n",
       "      <td>18</td>\n",
       "      <td>57</td>\n",
       "    </tr>\n",
       "    <tr>\n",
       "      <th>2</th>\n",
       "      <td>8</td>\n",
       "      <td>75</td>\n",
       "    </tr>\n",
       "    <tr>\n",
       "      <th>3</th>\n",
       "      <td>73</td>\n",
       "      <td>59</td>\n",
       "    </tr>\n",
       "    <tr>\n",
       "      <th>4</th>\n",
       "      <td>44</td>\n",
       "      <td>22</td>\n",
       "    </tr>\n",
       "    <tr>\n",
       "      <th>5</th>\n",
       "      <td>56</td>\n",
       "      <td>7</td>\n",
       "    </tr>\n",
       "    <tr>\n",
       "      <th>6</th>\n",
       "      <td>13</td>\n",
       "      <td>69</td>\n",
       "    </tr>\n",
       "    <tr>\n",
       "      <th>7</th>\n",
       "      <td>87</td>\n",
       "      <td>83</td>\n",
       "    </tr>\n",
       "    <tr>\n",
       "      <th>8</th>\n",
       "      <td>4</td>\n",
       "      <td>70</td>\n",
       "    </tr>\n",
       "    <tr>\n",
       "      <th>9</th>\n",
       "      <td>25</td>\n",
       "      <td>90</td>\n",
       "    </tr>\n",
       "  </tbody>\n",
       "</table>\n",
       "</div>"
      ],
      "text/plain": [
       "    x   y\n",
       "0   0   0\n",
       "1  18  57\n",
       "2   8  75\n",
       "3  73  59\n",
       "4  44  22\n",
       "5  56   7\n",
       "6  13  69\n",
       "7  87  83\n",
       "8   4  70\n",
       "9  25  90"
      ]
     },
     "execution_count": 2,
     "metadata": {},
     "output_type": "execute_result"
    },
    {
     "data": {
      "image/png": "[encoded data removed]",
      "text/plain": [
       "<Figure size 640x480 with 1 Axes>"
      ]
     },
     "metadata": {},
     "output_type": "display_data"
    }
   ],
   "source": [
    "n_point=10\n",
    "np.random.seed(2002)\n",
    "\n",
    "df=pd.DataFrame({\n",
    "    'x': np.random.randint(0, 100, n_point),\n",
    "    'y': np.random.randint(0, 100, n_point),\n",
    "})\n",
    "\n",
    "\n",
    "df.iloc[0]['x']=0\n",
    "df.iloc[0]['y']=0\n",
    "\n",
    "plt.xlim([-10, 110])\n",
    "plt.ylim([-10, 110])\n",
    "\n",
    "df"
   ]
  },
  {
   "cell_type": "code",
   "execution_count": 19,
   "metadata": {},
   "outputs": [
    {
     "name": "stdout",
     "output_type": "stream",
     "text": [
      "       x     y\n",
      "0   6734  1453\n",
      "1   2233    10\n",
      "2   5530  1424\n",
      "3    401   841\n",
      "4   3082  1644\n",
      "5   7608  4458\n",
      "6   7573  3716\n",
      "7   7265  1268\n",
      "8   6898  1885\n",
      "9   1112  2049\n",
      "10  5468  2606\n",
      "11  5989  2873\n",
      "12  4706  2674\n",
      "13  4612  2035\n",
      "14  6347  2683\n",
      "15  6107   669\n",
      "16  7611  5184\n",
      "17  7462  3590\n",
      "18  7732  4723\n",
      "19  5900  3561\n",
      "20  4483  3369\n",
      "21  6101  1110\n",
      "22  5199  2182\n",
      "23  1633  2809\n",
      "24  4307  2322\n",
      "25   675  1006\n",
      "26  7555  4819\n",
      "27  7541  3981\n",
      "28  3177   756\n",
      "29  7352  4506\n",
      "30  7545  2801\n",
      "31  3245  3305\n",
      "32  6426  3173\n",
      "33  4608  1198\n",
      "34    23  2216\n",
      "35  7248  3779\n",
      "36  7762  4595\n",
      "37  7392  2244\n",
      "38  3484  2829\n",
      "39  6271  2135\n",
      "40  4985   140\n",
      "41  1916  1569\n",
      "42  7280  4899\n",
      "43  7509  3239\n",
      "44    10  2676\n",
      "45  6807  2993\n",
      "46  5185  3258\n",
      "47  3023  1942\n"
     ]
    },
    {
     "data": {
      "text/plain": [
       "(-111.0, 5432.0)"
      ]
     },
     "execution_count": 19,
     "metadata": {},
     "output_type": "execute_result"
    },
    {
     "data": {
      "image/png": "[encoded data removed]",
      "text/plain": [
       "<Figure size 432x288 with 1 Axes>"
      ]
     },
     "metadata": {
      "needs_background": "light"
     },
     "output_type": "display_data"
    }
   ],
   "source": [
    "# http://comopt.ifi.uni-heidelberg.de/software/TSPLIB95/\n",
    "with open('att48.txt', 'r') as file: lines=file.readlines()\n",
    "\n",
    "x_coor=[]\n",
    "y_coor=[]\n",
    "\n",
    "for i in lines:\n",
    "    x, y=map(int, i.strip().split())\n",
    "    x_coor.append(x)\n",
    "    y_coor.append(y)\n",
    "\n",
    "data={'x': x_coor, 'y': y_coor}\n",
    "df=pd.DataFrame(data)\n",
    "\n",
    "print(df)\n",
    "\n",
    "plt.xlim([-111, 8088])\n",
    "plt.ylim([-111, 5432])\n"
   ]
  },
  {
   "cell_type": "code",
   "execution_count": 4,
   "metadata": {},
   "outputs": [
    {
     "name": "stdout",
     "output_type": "stream",
     "text": [
      "[[  0.  75.  83. 132.  66.  63.  82. 170.  74. 115.]\n",
      " [ 75.   0.  28.  57.  61.  88.  17.  95.  27.  40.]\n",
      " [ 83.  28.   0.  81.  89. 116.  11.  87.   9.  32.]\n",
      " [132.  57.  81.   0.  66.  69.  70.  38.  80.  79.]\n",
      " [ 66.  61.  89.  66.   0.  27.  78. 104.  88.  87.]\n",
      " [ 63.  88. 116.  69.  27.   0. 105. 107. 115. 114.]\n",
      " [ 82.  17.  11.  70.  78. 105.   0.  88.  10.  33.]\n",
      " [170.  95.  87.  38. 104. 107.  88.   0.  96.  69.]\n",
      " [ 74.  27.   9.  80.  88. 115.  10.  96.   0.  41.]\n",
      " [115.  40.  32.  79.  87. 114.  33.  69.  41.   0.]]\n"
     ]
    }
   ],
   "source": [
    "from scipy.spatial import distance_matrix\n",
    "n_point=len(df)\n",
    "time_step=n_point\n",
    "\n",
    "d=distance_matrix(df[['x', 'y']].values, df[['x', 'y']].values, p=1)  # 1=manhattan distance, 2=euclidean distance\n",
    "print(d)"
   ]
  },
  {
   "cell_type": "markdown",
   "metadata": {},
   "source": [
    "Draw problem state"
   ]
  },
  {
   "cell_type": "code",
   "execution_count": 5,
   "metadata": {},
   "outputs": [
    {
     "data": {
      "image/png": "[encoded data removed]",
      "text/plain": [
       "<Figure size 700x700 with 1 Axes>"
      ]
     },
     "metadata": {},
     "output_type": "display_data"
    }
   ],
   "source": [
    "plt.figure(figsize=(7, 7))\n",
    "\n",
    "#city_index=\"ABCDEFGHIJKLMNOPQRSTUVWXYZ\"\n",
    "for i in range(len(df)):\n",
    "    plt.scatter(df.iloc[i]['x'], df.iloc[i]['y'], c='red')\n",
    "    #plt.text(df.iloc[i]['x']+0.5, df.iloc[i]['y']+0.5, f'{city_index[i]}')\n",
    "    plt.text(df.iloc[i]['x']+0.88, df.iloc[i]['y']+0.88, f'{i}')\n",
    "\n",
    "plt.show()"
   ]
  },
  {
   "cell_type": "code",
   "execution_count": 6,
   "metadata": {},
   "outputs": [],
   "source": [
    "class QuboPoly():\n",
    "    def __init__(self, n=1024):\n",
    "        self.array=np.zeros((n, n), dtype=int)\n",
    "        self.constant=0\n",
    "        self._size=n\n",
    "    \n",
    "    def add_term(self, i, j, c):\n",
    "        if i>=self._size or j>=self._size:\n",
    "            raise RuntimeError(\"Wrong index\")\n",
    "        self.array[i][j]+=c\n",
    "        \n",
    "    def add_constant(self, c):\n",
    "        self.constant+=c\n",
    "        \n",
    "    def sum(self, p):\n",
    "        if self._size != p._size:\n",
    "            raise RuntimeError(\"Wrong polynomial size\")\n",
    "        self.array+=p.array\n",
    "        self.constant+=p.constant\n",
    "        \n",
    "    def power(self):\n",
    "        a=np.diag(self.array)\n",
    "        self.array=np.outer(a, a) + 2*self.constant*np.diag(a) # convert back to NxN\n",
    "        self.constant**=2\n",
    "        \n",
    "    def multiply(self, p):\n",
    "        a=np.diag(self.array)\n",
    "        b=np.diag(p.array)\n",
    "        self.array=np.outer(a, b) + self.constant*np.diag(b) + p.constant*np.diag(a)\n",
    "        self.constant*=p.constant"
   ]
  },
  {
   "cell_type": "markdown",
   "metadata": {},
   "source": [
    "##### $ Obj=\\sum_{t=0}^{time-1}\\sum_{i=0}^{city}\\sum_{j=0}^{city}x_{i,t}\\cdot x_{j,t+1}\\cdot d_{i,j} + \\sum_{i=0}^{city}\\sum_{j=0}^{city}x_{i,t_{end}}\\cdot x_{j,0}\\cdot d_{i,j} $ (last terms for calculating Hamiltonian cycle)"
   ]
  },
  {
   "cell_type": "code",
   "execution_count": 7,
   "metadata": {},
   "outputs": [],
   "source": [
    "def objective_function():\n",
    "    qubo=QuboPoly(n_point*time_step)\n",
    "    # Ex. 3 cities iterate 0 1 2-> (0,1) (0,2) (2,0)\n",
    "    for t in range(time_step):\n",
    "        for i in range(n_point):\n",
    "            for j in range(n_point):\n",
    "                #print(city_index[i], city_index[j], t)\n",
    "                if t==time_step-1: \n",
    "                    qubo.add_term((i*time_step)+t, (j*time_step), d[i][j])  # last terms that the final destination reaches the original node\n",
    "                else:\n",
    "                    qubo.add_term((i*time_step)+t, (j*time_step)+t+1, d[i][j])\n",
    "    #print(qubo.array)\n",
    "    return qubo"
   ]
  },
  {
   "cell_type": "markdown",
   "metadata": {},
   "source": [
    "##### $ C_{1}=\\sum_{t=0}^{time}(\\sum_{i=0}^{city} x_{i, t}-1)^2 $ (one-hot constraint for column)"
   ]
  },
  {
   "cell_type": "code",
   "execution_count": 10,
   "metadata": {},
   "outputs": [],
   "source": [
    "def build_one_car_each_t(alpha):\n",
    "    qubo=QuboPoly(n_point*time_step)\n",
    "    for t in range(time_step):\n",
    "        tmp=QuboPoly(n_point*time_step)\n",
    "        for i in range(n_point):\n",
    "            #print((i*time_step)+t, t)\n",
    "            tmp.add_term((i*time_step)+t, (i*time_step)+t, alpha)\n",
    "        tmp.add_constant(-alpha)\n",
    "        tmp.power()\n",
    "        qubo.sum(tmp)\n",
    "        #print(tmp.array)\n",
    "    #print(qubo.array)\n",
    "    return qubo"
   ]
  },
  {
   "cell_type": "markdown",
   "metadata": {},
   "source": [
    "##### $ C_{2}=\\sum_{i=0}^{city}(\\sum_{t=0}^{time} x_{i, t}-1)^2 $ (one-hot constraint for row)"
   ]
  },
  {
   "cell_type": "code",
   "execution_count": 11,
   "metadata": {},
   "outputs": [],
   "source": [
    "def build_car_visit_once(alpha):\n",
    "    qubo=QuboPoly(n_point*time_step)\n",
    "    for i in range(n_point):\n",
    "        tmp=QuboPoly(n_point*time_step)\n",
    "        for t in range(time_step):\n",
    "            #print((i*time_step)+t, t)\n",
    "            tmp.add_term((i*time_step)+t, (i*time_step)+t, alpha)\n",
    "        tmp.add_constant(-alpha)\n",
    "        tmp.power()\n",
    "        qubo.sum(tmp)\n",
    "        #print(tmp.array)\n",
    "    #print(qubo.array)\n",
    "    return qubo"
   ]
  },
  {
   "cell_type": "markdown",
   "metadata": {},
   "source": [
    "#### Building $Q$ matrix"
   ]
  },
  {
   "cell_type": "code",
   "execution_count": 12,
   "metadata": {},
   "outputs": [
    {
     "name": "stdout",
     "output_type": "stream",
     "text": [
      "Gen. Q time 0.009845082999959232 seconds\n",
      "constant = 50000\n",
      "Matrix size: 100 x 100\n"
     ]
    }
   ],
   "source": [
    "from time import monotonic\n",
    "start_time=monotonic()  # timer\n",
    "\n",
    "Q=QuboPoly(n_point*time_step)\n",
    "Obj=objective_function()\n",
    "C1=build_one_car_each_t(50) # column-alpha\n",
    "C2=build_car_visit_once(50) # row-alpha\n",
    "Q.sum(Obj)\n",
    "Q.sum(C1)\n",
    "Q.sum(C2)\n",
    "\n",
    "print(f\"Gen. Q time {monotonic() - start_time} seconds\")\n",
    "print(\"constant =\", Q.constant)\n",
    "#print(Q.array)\n",
    "print(f\"Matrix size: {Q._size} x {Q._size}\")"
   ]
  },
  {
   "cell_type": "code",
   "execution_count": 15,
   "metadata": {},
   "outputs": [
    {
     "name": "stdout",
     "output_type": "stream",
     "text": [
      "# of terms = 2800\n",
      "# of total = 10000\n",
      "Terms = 0.28%\n"
     ]
    }
   ],
   "source": [
    "from collections import defaultdict\n",
    "Q_dwave=defaultdict(int)\n",
    "\n",
    "for i in range(Q._size):\n",
    "    for j in range(Q._size):\n",
    "        if Q.array[i, j]!=0:\n",
    "            Q_dwave[(i, j)]=Q.array[i, j]\n",
    "\n",
    "print(\"# of terms =\", len(Q_dwave))\n",
    "print(\"# of total =\", Q._size**2)\n",
    "print(f'Terms = {len(Q_dwave)/(Q._size**2)}%')"
   ]
  },
  {
   "cell_type": "markdown",
   "metadata": {},
   "source": [
    "### Solve $x^TQx$ via D'Wave QM"
   ]
  },
  {
   "cell_type": "code",
   "execution_count": 24,
   "metadata": {},
   "outputs": [],
   "source": [
    "from dwave.system import DWaveSampler, EmbeddingComposite, LeapHybridSampler\n",
    "from dimod import BinaryQuadraticModel\n",
    "\n",
    "bqm=BinaryQuadraticModel('BINARY')\n",
    "bqm=BinaryQuadraticModel.from_qubo(Q_dwave)"
   ]
  },
  {
   "cell_type": "code",
   "execution_count": 25,
   "metadata": {},
   "outputs": [
    {
     "name": "stdout",
     "output_type": "stream",
     "text": [
      "D-wave time 12.358655001000216 seconds\n"
     ]
    }
   ],
   "source": [
    "start_time=monotonic()\n",
    "\n",
    "bqm_sampler=LeapHybridSampler()\n",
    "sampleset=bqm_sampler.sample(bqm, label='10-TSP-QUBO1', time_limit=50)\n",
    "#sampleset=bqm_sampler.sample(bqm, label='ATT48-TSP-QUBO1')\n",
    "\n",
    "print(f\"D-wave time {monotonic() - start_time} seconds\")"
   ]
  },
  {
   "cell_type": "code",
   "execution_count": 26,
   "metadata": {},
   "outputs": [
    {
     "name": "stdout",
     "output_type": "stream",
     "text": [
      "{'qpu_access_time': 4364574, 'charge_time': 49995795, 'run_time': 49995795, 'problem_id': 'c95feddb-7414-47f0-a190-e7953f8a4734', 'problem_label': '10-TSP-QUBO1'}\n"
     ]
    }
   ],
   "source": [
    "print(sampleset.info)"
   ]
  },
  {
   "cell_type": "code",
   "execution_count": 27,
   "metadata": {},
   "outputs": [
    {
     "name": "stdout",
     "output_type": "stream",
     "text": [
      "Best Sample: {0: 0, 1: 0, 2: 0, 3: 0, 4: 0, 5: 0, 6: 1, 7: 0, 8: 0, 9: 0, 10: 0, 11: 0, 12: 0, 13: 0, 14: 0, 15: 1, 16: 0, 17: 0, 18: 0, 19: 0, 20: 0, 21: 0, 22: 1, 23: 0, 24: 0, 25: 0, 26: 0, 27: 0, 28: 0, 29: 0, 30: 0, 31: 0, 32: 0, 33: 0, 34: 0, 35: 0, 36: 0, 37: 0, 38: 0, 39: 1, 40: 0, 41: 0, 42: 0, 43: 0, 44: 0, 45: 0, 46: 0, 47: 0, 48: 1, 49: 0, 50: 0, 51: 0, 52: 0, 53: 0, 54: 0, 55: 0, 56: 0, 57: 1, 58: 0, 59: 0, 60: 0, 61: 0, 62: 0, 63: 0, 64: 1, 65: 0, 66: 0, 67: 0, 68: 0, 69: 0, 70: 1, 71: 0, 72: 0, 73: 0, 74: 0, 75: 0, 76: 0, 77: 0, 78: 0, 79: 0, 80: 0, 81: 0, 82: 0, 83: 1, 84: 0, 85: 0, 86: 0, 87: 0, 88: 0, 89: 0, 90: 0, 91: 1, 92: 0, 93: 0, 94: 0, 95: 0, 96: 0, 97: 0, 98: 0, 99: 0}\n",
      "Best Energy: -49594.0\n"
     ]
    }
   ],
   "source": [
    "best_sample=sampleset.first.sample\n",
    "best_energy=sampleset.first.energy\n",
    "\n",
    "print(\"Best Sample:\", best_sample)\n",
    "print(\"Best Energy:\", best_energy)\n",
    "\n",
    "# map it back to answer\n",
    "solution=np.zeros(n_point*time_step, dtype=int)\n",
    "for index, var in enumerate(best_sample):\n",
    "    solution[index]=int(best_sample[var])"
   ]
  },
  {
   "cell_type": "code",
   "execution_count": 28,
   "metadata": {},
   "outputs": [
    {
     "name": "stdout",
     "output_type": "stream",
     "text": [
      "[[0 0 0 0 0 0 1 0 0 0]\n",
      " [0 0 0 0 0 1 0 0 0 0]\n",
      " [0 0 1 0 0 0 0 0 0 0]\n",
      " [0 0 0 0 0 0 0 0 0 1]\n",
      " [0 0 0 0 0 0 0 0 1 0]\n",
      " [0 0 0 0 0 0 0 1 0 0]\n",
      " [0 0 0 0 1 0 0 0 0 0]\n",
      " [1 0 0 0 0 0 0 0 0 0]\n",
      " [0 0 0 1 0 0 0 0 0 0]\n",
      " [0 1 0 0 0 0 0 0 0 0]]\n"
     ]
    }
   ],
   "source": [
    "#import sys\n",
    "#np.set_printoptions(threshold=sys.maxsize)\n",
    "#print(solution.reshape(n_point, time_step))\n",
    "solution=solution.reshape(n_point, time_step)\n",
    "print(solution)"
   ]
  },
  {
   "cell_type": "code",
   "execution_count": 29,
   "metadata": {},
   "outputs": [],
   "source": [
    "def check_c1():\n",
    "    for t in range(time_step):\n",
    "        cnt=0\n",
    "        for i in range(n_point):\n",
    "            cnt+=solution[i][t]\n",
    "        if cnt!=1:\n",
    "            return False\n",
    "    return True\n",
    "\n",
    "def check_c2():\n",
    "    for i in range(n_point):\n",
    "        cnt=0\n",
    "        for t in range(time_step):\n",
    "            cnt+=solution[i][t]\n",
    "        if cnt!=1:\n",
    "            return False\n",
    "    return True"
   ]
  },
  {
   "cell_type": "code",
   "execution_count": 30,
   "metadata": {},
   "outputs": [
    {
     "name": "stdout",
     "output_type": "stream",
     "text": [
      "x6 = 1 (city: 0, time: 6)\n",
      "x15 = 1 (city: 1, time: 5)\n",
      "x22 = 1 (city: 2, time: 2)\n",
      "x39 = 1 (city: 3, time: 9)\n",
      "x48 = 1 (city: 4, time: 8)\n",
      "x57 = 1 (city: 5, time: 7)\n",
      "x64 = 1 (city: 6, time: 4)\n",
      "x70 = 1 (city: 7, time: 0)\n",
      "x83 = 1 (city: 8, time: 3)\n",
      "x91 = 1 (city: 9, time: 1)\n",
      "[7, 9, 2, 8, 6, 1, 0, 5, 4, 3, 7]\n",
      "Number of visited: 11\n",
      "Number of unique: 10\n",
      "C1: True\n",
      "C2: True\n"
     ]
    }
   ],
   "source": [
    "routes=[0]*time_step\n",
    "for index, (key, val) in enumerate(best_sample.items()):\n",
    "    #print(index, key, val)\n",
    "    if val > 0.5:\n",
    "        print(f'x{index} = {val} (city: {int(index/time_step)}, time: {index%time_step})')\n",
    "        routes[index%time_step]=int(index/time_step)\n",
    "\n",
    "# append for drawing graph with Hamiltonian cycle by hand\n",
    "routes.append(routes[0])\n",
    "print(routes)\n",
    "print(\"Number of visited:\", len(routes))\n",
    "print(\"Number of unique:\", len(set(routes)))\n",
    "print(\"C1:\", check_c1())\n",
    "print(\"C2:\", check_c2())"
   ]
  },
  {
   "cell_type": "markdown",
   "metadata": {},
   "source": [
    "#### Visualization"
   ]
  },
  {
   "cell_type": "code",
   "execution_count": 31,
   "metadata": {},
   "outputs": [
    {
     "data": {
      "image/png": "[encoded data removed]",
      "text/plain": [
       "<Figure size 700x700 with 1 Axes>"
      ]
     },
     "metadata": {},
     "output_type": "display_data"
    },
    {
     "name": "stdout",
     "output_type": "stream",
     "text": [
      "Total cost: 406.0\n"
     ]
    }
   ],
   "source": [
    "plt.figure(figsize=(7, 7))\n",
    "\n",
    "for i in range(len(df)):\n",
    "    plt.scatter(df.iloc[i]['x'], df.iloc[i]['y'], c='red')\n",
    "    plt.text(df.iloc[i]['x']+0.88, df.iloc[i]['y']+0.88, f'{i}')\n",
    "\n",
    "for i in range(len(routes)-1):\n",
    "    #plt.arrow(df.iloc[routes[i]]['x'], df.iloc[routes[i]]['y'], df.iloc[routes[i+1]]['x'] - df.iloc[routes[i]]['x'], df.iloc[routes[i+1]]['y'] - df.iloc[routes[i]]['y'], \n",
    "    #head_width=2, head_length=3, fc='blue', ec='blue')\n",
    "    x1, y1=df.iloc[routes[i]]['x'], df.iloc[routes[i]]['y']\n",
    "    x2, y2=df.iloc[routes[i+1]]['x'], df.iloc[routes[i+1]]['y']\n",
    "    plt.plot([x1, x2], [y1, y2], c='blue')\n",
    "\n",
    "    mid_x=(x1+x2)/2\n",
    "    mid_y=(y1+y2)/2\n",
    "    dx=(x2-x1)*0.05  # Offset along x-direction\n",
    "    dy=(y2-y1)*0.05  # Offset along y-direction\n",
    "    \n",
    "    #plt.annotate('', xy=(mid_x + dx, mid_y + dy), xytext=(mid_x, mid_y), arrowprops=dict(arrowstyle='->', color='blue'))\n",
    "    plt.annotate('', xy=(mid_x + dx, mid_y + dy), xytext=(mid_x, mid_y),\n",
    "                 arrowprops=dict(arrowstyle='simple, tail_width=0.5, head_width=0.69, head_length=0.69', color='blue'))\n",
    "        \n",
    "plt.show()\n",
    "\n",
    "cost=0\n",
    "for i in range(len(routes)-1):\n",
    "    cost+=d[routes[i]][routes[i+1]]\n",
    "print(\"Total cost:\", cost)"
   ]
  },
  {
   "cell_type": "markdown",
   "metadata": {},
   "source": [
    "Optimum solution for ATT48"
   ]
  },
  {
   "cell_type": "code",
   "execution_count": 2,
   "metadata": {},
   "outputs": [
    {
     "data": {
      "text/plain": [
       "'\\nopt_seq=[0, 7, 37, 30, 43, 17, 6, 27, 5, 36, 18, 26, 16, 42, 29, 35, 45, 32, 19, 46, 20, 31, 38, 47, 4, 41, 23, 9, 44, 34, 3, 25, 1, 28, 33, 40, 15, 21, 2, 22, 13, 24, 12, 10, 11, 14, 39, 8, 0]\\nopt_cost=0\\nfor i in range(len(opt_seq)-1):\\n    opt_cost+=d[opt_seq[i]][opt_seq[i+1]]\\nprint(\"OPTIMUM COST:\", opt_cost)\\n#routes=opt_seq\\n'"
      ]
     },
     "execution_count": 2,
     "metadata": {},
     "output_type": "execute_result"
    }
   ],
   "source": [
    "opt_seq=[0, 7, 37, 30, 43, 17, 6, 27, 5, 36, 18, 26, 16, 42, 29, 35, 45, 32, 19, 46, 20, 31, 38, 47, 4, 41, 23, 9, 44, 34, 3, 25, 1, 28, 33, 40, 15, 21, 2, 22, 13, 24, 12, 10, 11, 14, 39, 8, 0]\n",
    "opt_cost=0\n",
    "for i in range(len(opt_seq)-1):\n",
    "    opt_cost+=d[opt_seq[i]][opt_seq[i+1]]\n",
    "print(\"OPTIMUM COST:\", opt_cost)\n",
    "#routes=opt_seq"
   ]
  },
  {
   "cell_type": "code",
   "execution_count": null,
   "metadata": {},
   "outputs": [],
   "source": []
  }
 ],
 "metadata": {
  "kernelspec": {
   "display_name": "Python 3 (ipykernel)",
   "language": "python",
   "name": "python3"
  },
  "language_info": {
   "codemirror_mode": {
    "name": "ipython",
    "version": 3
   },
   "file_extension": ".py",
   "mimetype": "text/x-python",
   "name": "python",
   "nbconvert_exporter": "python",
   "pygments_lexer": "ipython3",
   "version": "3.11.4"
  }
 },
 "nbformat": 4,
 "nbformat_minor": 2
}
