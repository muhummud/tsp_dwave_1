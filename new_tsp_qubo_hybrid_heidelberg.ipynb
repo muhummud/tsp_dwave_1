{
 "cells": [
  {
   "cell_type": "markdown",
   "metadata": {},
   "source": [
    "## Traveling Salesperson Problem with DWAVEQUBO (LeapHybrid)\n",
    "![](https://upload.wikimedia.org/wikipedia/commons/4/4f/Logo_dwave.png)"
   ]
  },
  {
   "cell_type": "code",
   "execution_count": 1,
   "metadata": {},
   "outputs": [
    {
     "name": "stdout",
     "output_type": "stream",
     "text": [
      "1.26.4\n"
     ]
    }
   ],
   "source": [
    "import numpy\n",
    "print(numpy.__version__)"
   ]
  },
  {
   "cell_type": "code",
   "execution_count": 2,
   "metadata": {},
   "outputs": [],
   "source": [
    "import numpy as np\n",
    "import pandas as pd\n",
    "from scipy.spatial import distance_matrix\n",
    "import matplotlib.pyplot as plt\n",
    "import networkx as nx\n",
    "from sklearn.manifold import MDS"
   ]
  },
  {
   "cell_type": "markdown",
   "metadata": {},
   "source": [
    "http://comopt.ifi.uni-heidelberg.de/software/TSPLIB95/\n",
    "![](https://upload.wikimedia.org/wikipedia/commons/thumb/e/ea/Ruprecht-Karls-Universit%C3%A4t_Heidelberg_Logo.svg/2560px-Ruprecht-Karls-Universit%C3%A4t_Heidelberg_Logo.svg.png)"
   ]
  },
  {
   "cell_type": "markdown",
   "metadata": {},
   "source": [
    "### ใส่ชื่อไฟล์ที่จะทำการทดลอง"
   ]
  },
  {
   "cell_type": "code",
   "execution_count": 25,
   "metadata": {},
   "outputs": [],
   "source": [
    "# open the sample file used \n",
    "\n",
    "file_name = 'GR17_DN-th0250.txt'\n",
    "#file_name = 'FRI26_DN-th0250.txt'"
   ]
  },
  {
   "cell_type": "markdown",
   "metadata": {},
   "source": [
    "### เริ่มการอ่านไฟล์ตั้งแต่บรรทัดที่ ... ถึง ... เพื่อเก็บค่า `algo_dist` (ALGORITHM_DISTANCE_MATRIX)"
   ]
  },
  {
   "cell_type": "code",
   "execution_count": 26,
   "metadata": {},
   "outputs": [],
   "source": [
    "file_path = open(file_name) \n",
    "# read the content of the file opened \n",
    "content = file_path.readlines() \n",
    "def read_algo_dist_from_file(filename):\n",
    "    instance=[]\n",
    "    #print(filename[0])\n",
    "    first_line = filename[0]\n",
    "    _, _, num_samples_str = first_line.split()\n",
    "    global N_samples\n",
    "    N_samples, num_samples=int(num_samples_str), int(num_samples_str)\n",
    "    num_points=10\n",
    "    #print(num_samples_str)\n",
    "\n",
    "\n",
    "    start_line = 33\n",
    "    end_line = 58\n",
    "    # loop through each N-Sample\n",
    "    for i, line in enumerate(filename):\n",
    "        if i in range(start_line-1, end_line):\n",
    "            #print(\"line\",i)\n",
    "            line=filename[i].strip()\n",
    "            try:\n",
    "                data=list(map(float, line.split()))\n",
    "            except:\n",
    "                data=list(map(float, line.split(',')))\n",
    "\n",
    "            instance.append(data)\n",
    "    return instance\n",
    "\n",
    "algo_dist=read_algo_dist_from_file(content)"
   ]
  },
  {
   "cell_type": "code",
   "execution_count": 27,
   "metadata": {},
   "outputs": [
    {
     "name": "stdout",
     "output_type": "stream",
     "text": [
      "[[1000000.0, 1000000.0, 262.0, 1000000.0, 1000000.0, 1000000.0, 1000000.0, 1000000.0, 1000000.0, 0.0, 154.0, 1000000.0, 1000000.0, 1000000.0, 1000000.0, 1000000.0, 1000000.0], [1000000.0, 1000000.0, 110.0, 1000000.0, 61.0, 1000000.0, 1000000.0, 1000000.0, 1000000.0, 154.0, 0.0, 1000000.0, 1000000.0, 1000000.0, 1000000.0, 1000000.0, 1000000.0], [1000000.0, 1000000.0, 1000000.0, 1000000.0, 1000000.0, 1000000.0, 1000000.0, 1000000.0, 95.0, 1000000.0, 1000000.0, 0.0, 1000000.0, 1000000.0, 1000000.0, 157.0, 1000000.0], [70.0, 1000000.0, 1000000.0, 27.0, 1000000.0, 83.0, 47.0, 68.0, 1000000.0, 1000000.0, 1000000.0, 1000000.0, 0.0, 1000000.0, 1000000.0, 289.0, 55.0], [1000000.0, 1000000.0, 74.0, 1000000.0, 1000000.0, 105.0, 1000000.0, 108.0, 1000000.0, 1000000.0, 1000000.0, 1000000.0, 1000000.0, 0.0, 57.0, 1000000.0, 96.0], [1000000.0, 1000000.0, 53.0, 1000000.0, 1000000.0, 123.0, 1000000.0, 1000000.0, 1000000.0, 1000000.0, 1000000.0, 1000000.0, 1000000.0, 57.0, 0.0, 1000000.0, 1000000.0], [246.0, 1000000.0, 1000000.0, 237.0, 1000000.0, 1000000.0, 1000000.0, 1000000.0, 202.0, 1000000.0, 1000000.0, 157.0, 289.0, 1000000.0, 1000000.0, 0.0, 1000000.0], [121.0, 1000000.0, 1000000.0, 1000000.0, 1000000.0, 35.0, 29.0, 36.0, 1000000.0, 1000000.0, 1000000.0, 1000000.0, 55.0, 96.0, 1000000.0, 1000000.0, 0.0]]\n"
     ]
    }
   ],
   "source": [
    "print(algo_dist)"
   ]
  },
  {
   "cell_type": "code",
   "execution_count": 28,
   "metadata": {},
   "outputs": [
    {
     "name": "stdout",
     "output_type": "stream",
     "text": [
      "points =  8\n"
     ]
    }
   ],
   "source": [
    "n_point=len(algo_dist)\n",
    "time_step=n_point\n",
    "\n",
    "print(\"points = \", n_point)"
   ]
  },
  {
   "cell_type": "markdown",
   "metadata": {},
   "source": [
    "### เก็บค่า `original_dist` (ORIGINAL_DISTANCE_MATRIX) เพื่อเขาไว้เป็น baseline ในการคำนวณ"
   ]
  },
  {
   "cell_type": "code",
   "execution_count": 29,
   "metadata": {},
   "outputs": [],
   "source": [
    "def read_original_dist_from_file(file_path, n_points):\n",
    "    start_line = 4\n",
    "    end_line = start_line + n_points\n",
    "    delimiter = ','\n",
    "    with open(file_path, 'r') as file: lines = file.readlines()\n",
    "    \n",
    "    distance_matrix=[]\n",
    "    for i, line in enumerate(lines):\n",
    "        if i in range(start_line, end_line):\n",
    "            try:\n",
    "                row=list(map(float, line.split()))\n",
    "            except:\n",
    "                row=list(map(float, line.split(',')))\n",
    "            distance_matrix.append(row)\n",
    "    \n",
    "    return np.array(distance_matrix)\n",
    "\n",
    "original_dist = read_original_dist_from_file(file_name, len(algo_dist[0]))"
   ]
  },
  {
   "cell_type": "markdown",
   "metadata": {},
   "source": [
    "### Draw problem state"
   ]
  },
  {
   "cell_type": "code",
   "execution_count": 30,
   "metadata": {},
   "outputs": [
    {
     "name": "stdout",
     "output_type": "stream",
     "text": [
      "17\n"
     ]
    },
    {
     "data": {
      "text/html": [
       "<div>\n",
       "<style scoped>\n",
       "    .dataframe tbody tr th:only-of-type {\n",
       "        vertical-align: middle;\n",
       "    }\n",
       "\n",
       "    .dataframe tbody tr th {\n",
       "        vertical-align: top;\n",
       "    }\n",
       "\n",
       "    .dataframe thead th {\n",
       "        text-align: right;\n",
       "    }\n",
       "</style>\n",
       "<table border=\"1\" class=\"dataframe\">\n",
       "  <thead>\n",
       "    <tr style=\"text-align: right;\">\n",
       "      <th></th>\n",
       "      <th>x</th>\n",
       "      <th>y</th>\n",
       "    </tr>\n",
       "  </thead>\n",
       "  <tbody>\n",
       "    <tr>\n",
       "      <th>0</th>\n",
       "      <td>0.324715</td>\n",
       "      <td>1.000000</td>\n",
       "    </tr>\n",
       "    <tr>\n",
       "      <th>1</th>\n",
       "      <td>0.999311</td>\n",
       "      <td>0.000000</td>\n",
       "    </tr>\n",
       "    <tr>\n",
       "      <th>2</th>\n",
       "      <td>0.677903</td>\n",
       "      <td>0.759884</td>\n",
       "    </tr>\n",
       "    <tr>\n",
       "      <th>3</th>\n",
       "      <td>0.328133</td>\n",
       "      <td>0.841428</td>\n",
       "    </tr>\n",
       "    <tr>\n",
       "      <th>4</th>\n",
       "      <td>0.758245</td>\n",
       "      <td>0.370882</td>\n",
       "    </tr>\n",
       "    <tr>\n",
       "      <th>5</th>\n",
       "      <td>0.509029</td>\n",
       "      <td>0.820547</td>\n",
       "    </tr>\n",
       "    <tr>\n",
       "      <th>6</th>\n",
       "      <td>0.417833</td>\n",
       "      <td>0.907862</td>\n",
       "    </tr>\n",
       "    <tr>\n",
       "      <th>7</th>\n",
       "      <td>0.470881</td>\n",
       "      <td>0.883004</td>\n",
       "    </tr>\n",
       "    <tr>\n",
       "      <th>8</th>\n",
       "      <td>0.250144</td>\n",
       "      <td>0.432305</td>\n",
       "    </tr>\n",
       "    <tr>\n",
       "      <th>9</th>\n",
       "      <td>1.000000</td>\n",
       "      <td>0.570179</td>\n",
       "    </tr>\n",
       "    <tr>\n",
       "      <th>10</th>\n",
       "      <td>0.758579</td>\n",
       "      <td>0.535993</td>\n",
       "    </tr>\n",
       "    <tr>\n",
       "      <th>11</th>\n",
       "      <td>0.134545</td>\n",
       "      <td>0.385196</td>\n",
       "    </tr>\n",
       "    <tr>\n",
       "      <th>12</th>\n",
       "      <td>0.385969</td>\n",
       "      <td>0.832426</td>\n",
       "    </tr>\n",
       "    <tr>\n",
       "      <th>13</th>\n",
       "      <td>0.611215</td>\n",
       "      <td>0.880508</td>\n",
       "    </tr>\n",
       "    <tr>\n",
       "      <th>14</th>\n",
       "      <td>0.698024</td>\n",
       "      <td>0.839518</td>\n",
       "    </tr>\n",
       "    <tr>\n",
       "      <th>15</th>\n",
       "      <td>0.000000</td>\n",
       "      <td>0.661470</td>\n",
       "    </tr>\n",
       "    <tr>\n",
       "      <th>16</th>\n",
       "      <td>0.465157</td>\n",
       "      <td>0.833386</td>\n",
       "    </tr>\n",
       "  </tbody>\n",
       "</table>\n",
       "</div>"
      ],
      "text/plain": [
       "           x         y\n",
       "0   0.324715  1.000000\n",
       "1   0.999311  0.000000\n",
       "2   0.677903  0.759884\n",
       "3   0.328133  0.841428\n",
       "4   0.758245  0.370882\n",
       "5   0.509029  0.820547\n",
       "6   0.417833  0.907862\n",
       "7   0.470881  0.883004\n",
       "8   0.250144  0.432305\n",
       "9   1.000000  0.570179\n",
       "10  0.758579  0.535993\n",
       "11  0.134545  0.385196\n",
       "12  0.385969  0.832426\n",
       "13  0.611215  0.880508\n",
       "14  0.698024  0.839518\n",
       "15  0.000000  0.661470\n",
       "16  0.465157  0.833386"
      ]
     },
     "execution_count": 30,
     "metadata": {},
     "output_type": "execute_result"
    }
   ],
   "source": [
    "mds=MDS(n_components=2, dissimilarity='precomputed', normalized_stress='auto', random_state=42)\n",
    "coordinates=mds.fit_transform(original_dist)\n",
    "coordinates-=coordinates.min(axis=0)\n",
    "coordinates/=coordinates.max(axis=0)\n",
    "df=pd.DataFrame(coordinates, columns=['x', 'y'])\n",
    "print(len(df))\n",
    "df"
   ]
  },
  {
   "cell_type": "code",
   "execution_count": 31,
   "metadata": {},
   "outputs": [
    {
     "data": {
      "image/png": "[encoded data removed]",
      "text/plain": [
       "<Figure size 500x500 with 1 Axes>"
      ]
     },
     "metadata": {},
     "output_type": "display_data"
    }
   ],
   "source": [
    "plt.figure(figsize=(5, 5))\n",
    "\n",
    "city_index=\"ABCDEFGHIJKLMNOPQRSTUVWXYZ\"\n",
    "for i in range(len(df)):\n",
    "    plt.scatter(df.iloc[i]['x'], df.iloc[i]['y'], c='red', s=8)\n",
    "    if n_point<=26:\n",
    "        plt.text(df.iloc[i]['x']+0.01, df.iloc[i]['y']+0.01, f'{city_index[i]}', fontsize=8)\n",
    "    else:\n",
    "        plt.text(df.iloc[i]['x']+0.01, df.iloc[i]['y']+0.01, f'{i}')\n",
    "\n",
    "plt.title(file_name)\n",
    "plt.show()"
   ]
  },
  {
   "cell_type": "markdown",
   "metadata": {},
   "source": [
    "### QUBO Building"
   ]
  },
  {
   "cell_type": "code",
   "execution_count": 32,
   "metadata": {},
   "outputs": [],
   "source": [
    "class QuboPoly():\n",
    "    def __init__(self, n=1024):\n",
    "        self.array=np.zeros((n, n), dtype=int)\n",
    "        self.constant=0\n",
    "        self._size=n\n",
    "    \n",
    "    def add_term(self, i, j, c):\n",
    "        if i>=self._size or j>=self._size:\n",
    "            raise RuntimeError(\"Wrong index\")\n",
    "        self.array[i][j]+=c\n",
    "        \n",
    "    def add_constant(self, c):\n",
    "        self.constant+=c\n",
    "        \n",
    "    def sum(self, p):\n",
    "        if self._size != p._size:\n",
    "            raise RuntimeError(\"Wrong polynomial size\")\n",
    "        self.array+=p.array\n",
    "        self.constant+=p.constant\n",
    "        \n",
    "    def power(self):\n",
    "        a=np.diag(self.array)\n",
    "        self.array=np.outer(a, a) + 2*self.constant*np.diag(a) # convert back to NxN\n",
    "        self.constant**=2\n",
    "        \n",
    "    def multiply(self, p):\n",
    "        a=np.diag(self.array)\n",
    "        b=np.diag(p.array)\n",
    "        self.array=np.outer(a, b) + self.constant*np.diag(b) + p.constant*np.diag(a)\n",
    "        self.constant*=p.constant"
   ]
  },
  {
   "cell_type": "markdown",
   "metadata": {},
   "source": [
    "##### $ Obj=\\sum_{t=0}^{time-1}\\sum_{i=0}^{city}\\sum_{j=0}^{city}x_{i,t}\\cdot x_{j,t+1}\\cdot d_{i,j} + \\sum_{i=0}^{city}\\sum_{j=0}^{city}x_{i,t_{end}}\\cdot x_{j,0}\\cdot d_{i,j} $ (last terms for calculating Hamiltonian cycle)"
   ]
  },
  {
   "cell_type": "code",
   "execution_count": 33,
   "metadata": {},
   "outputs": [],
   "source": [
    "def objective_function():\n",
    "    qubo=QuboPoly(n_point*time_step)\n",
    "    # Ex. 3 cities iterate 0 1 2-> (0,1) (0,2) (2,0)\n",
    "    for t in range(time_step):\n",
    "        for i in range(n_point):\n",
    "            for j in range(n_point):\n",
    "                #print(city_index[i], city_index[j], t)\n",
    "                if t==time_step-1: \n",
    "                    qubo.add_term((i*time_step)+t, (j*time_step), algo_dist[i][j])  # last terms that the final destination reaches the original node\n",
    "                else:\n",
    "                    qubo.add_term((i*time_step)+t, (j*time_step)+t+1, algo_dist[i][j])\n",
    "    #print(qubo.array)\n",
    "    return qubo"
   ]
  },
  {
   "cell_type": "markdown",
   "metadata": {},
   "source": [
    "##### $ C_{1}=\\sum_{t=0}^{time}(\\sum_{i=0}^{city} x_{i, t}-1)^2 $ (one-hot constraint for column)"
   ]
  },
  {
   "cell_type": "code",
   "execution_count": 34,
   "metadata": {},
   "outputs": [],
   "source": [
    "def build_one_car_each_t(alpha):\n",
    "    qubo=QuboPoly(n_point*time_step)\n",
    "    for t in range(time_step):\n",
    "        tmp=QuboPoly(n_point*time_step)\n",
    "        for i in range(n_point):\n",
    "            #print((i*time_step)+t, t)\n",
    "            tmp.add_term((i*time_step)+t, (i*time_step)+t, alpha)\n",
    "        tmp.add_constant(-alpha)\n",
    "        tmp.power()\n",
    "        qubo.sum(tmp)\n",
    "        #print(tmp.array)\n",
    "    #print(qubo.array)\n",
    "    return qubo"
   ]
  },
  {
   "cell_type": "markdown",
   "metadata": {},
   "source": [
    "##### $ C_{2}=\\sum_{i=0}^{city}(\\sum_{t=0}^{time} x_{i, t}-1)^2 $ (one-hot constraint for row)"
   ]
  },
  {
   "cell_type": "code",
   "execution_count": 35,
   "metadata": {},
   "outputs": [],
   "source": [
    "def build_car_visit_once(alpha):\n",
    "    qubo=QuboPoly(n_point*time_step)\n",
    "    for i in range(n_point):\n",
    "        tmp=QuboPoly(n_point*time_step)\n",
    "        for t in range(time_step):\n",
    "            #print((i*time_step)+t, t)\n",
    "            tmp.add_term((i*time_step)+t, (i*time_step)+t, alpha)\n",
    "        tmp.add_constant(-alpha)\n",
    "        tmp.power()\n",
    "        qubo.sum(tmp)\n",
    "        #print(tmp.array)\n",
    "    #print(qubo.array)\n",
    "    return qubo"
   ]
  },
  {
   "cell_type": "markdown",
   "metadata": {},
   "source": [
    "#### Building $Q$ matrix"
   ]
  },
  {
   "cell_type": "code",
   "execution_count": 36,
   "metadata": {},
   "outputs": [
    {
     "name": "stdout",
     "output_type": "stream",
     "text": [
      "Gen. Q time 0.004561207999358885 seconds\n",
      "constant = 4000000\n",
      "Matrix size: 64 x 64\n"
     ]
    }
   ],
   "source": [
    "from time import monotonic\n",
    "start_time=monotonic()  # timer\n",
    "\n",
    "Q=QuboPoly(n_point*time_step)\n",
    "Obj=objective_function()\n",
    "C1=build_one_car_each_t(500) # column-alpha\n",
    "C2=build_car_visit_once(500) # row-alpha\n",
    "Q.sum(Obj)\n",
    "Q.sum(C1)\n",
    "Q.sum(C2)\n",
    "\n",
    "print(f\"Gen. Q time {monotonic() - start_time} seconds\")\n",
    "print(\"constant =\", Q.constant)\n",
    "#print(Q.array)\n",
    "print(f\"Matrix size: {Q._size} x {Q._size}\")"
   ]
  },
  {
   "cell_type": "code",
   "execution_count": 37,
   "metadata": {},
   "outputs": [
    {
     "name": "stdout",
     "output_type": "stream",
     "text": [
      "# of terms = 1408\n",
      "# of total = 4096\n",
      "Terms = 0.34375%\n"
     ]
    }
   ],
   "source": [
    "from collections import defaultdict\n",
    "Q_dwave=defaultdict(int)\n",
    "\n",
    "for i in range(Q._size):\n",
    "    for j in range(Q._size):\n",
    "        if Q.array[i, j]!=0:\n",
    "            Q_dwave[(i, j)]=Q.array[i, j]\n",
    "\n",
    "print(\"# of terms =\", len(Q_dwave))\n",
    "print(\"# of total =\", Q._size**2)\n",
    "print(f'Terms = {len(Q_dwave)/(Q._size**2)}%')"
   ]
  },
  {
   "cell_type": "markdown",
   "metadata": {},
   "source": [
    "### Solve $x^TQx$ via D'Wave QM"
   ]
  },
  {
   "cell_type": "code",
   "execution_count": 38,
   "metadata": {},
   "outputs": [],
   "source": [
    "from dwave.system import DWaveSampler, EmbeddingComposite, LeapHybridSampler\n",
    "from dimod import BinaryQuadraticModel\n",
    "import time\n",
    "bqm=BinaryQuadraticModel('BINARY')\n",
    "bqm=BinaryQuadraticModel.from_qubo(Q_dwave)"
   ]
  },
  {
   "cell_type": "markdown",
   "metadata": {},
   "source": [
    "cqm = ConstrainedQuadraticModel().from_bqm(bqm)"
   ]
  },
  {
   "cell_type": "markdown",
   "metadata": {},
   "source": [
    "## **LeapHybrid Solver**"
   ]
  },
  {
   "cell_type": "code",
   "execution_count": 39,
   "metadata": {},
   "outputs": [
    {
     "name": "stdout",
     "output_type": "stream",
     "text": [
      "D-wave time 8.492450167001152 seconds\n",
      "The time of execution of above program is : 8492.129802703857 ms\n"
     ]
    }
   ],
   "source": [
    "start_time=monotonic()\n",
    "start = time.time()\n",
    "\n",
    "bqm_sampler=LeapHybridSampler()\n",
    "#sampleset=bqm_sampler.sample(bqm, label='10-TSP-QUBO1', time_limit=10)\n",
    "#sampleset=bqm_sampler.sample(bqm, label='ATT48_GA-02.txt', time_limit=10)\n",
    "#sampleset=bqm_sampler.sample(bqm, label='FRI26_DN-th0250.txt', time_limit=5)\n",
    "sampleset=bqm_sampler.sample(bqm, label=file_name, time_limit=10)\n",
    "\n",
    "end = time.time()\n",
    "print(f\"D-wave time {monotonic() - start_time} seconds\")\n",
    "print(\"The time of execution of above program is :\", (end-start) * 10**3, \"ms\")"
   ]
  },
  {
   "cell_type": "code",
   "execution_count": 40,
   "metadata": {},
   "outputs": [
    {
     "name": "stdout",
     "output_type": "stream",
     "text": [
      "{'qpu_access_time': 682749, 'charge_time': 9995870, 'run_time': 9995870, 'problem_id': '795e0b6d-f138-4b08-b0f3-a4103bb0c464', 'problem_label': 'GR17_DN-th0250.txt'}\n"
     ]
    }
   ],
   "source": [
    "print(sampleset.info)"
   ]
  },
  {
   "cell_type": "code",
   "execution_count": 41,
   "metadata": {},
   "outputs": [
    {
     "name": "stdout",
     "output_type": "stream",
     "text": [
      "Best Sample: {0: 0, 1: 0, 2: 0, 3: 0, 4: 0, 5: 0, 6: 0, 7: 0, 8: 1, 9: 0, 10: 0, 11: 0, 12: 0, 13: 0, 14: 0, 15: 0, 16: 0, 17: 0, 18: 0, 19: 0, 20: 0, 21: 0, 22: 1, 23: 0, 24: 0, 25: 0, 26: 0, 27: 0, 28: 1, 29: 0, 30: 0, 31: 0, 32: 0, 33: 1, 34: 0, 35: 0, 36: 0, 37: 0, 38: 0, 39: 0, 40: 0, 41: 0, 42: 0, 43: 0, 44: 0, 45: 1, 46: 0, 47: 0, 48: 0, 49: 0, 50: 0, 51: 1, 52: 0, 53: 0, 54: 0, 55: 0, 56: 0, 57: 0, 58: 1, 59: 0, 60: 0, 61: 0, 62: 0, 63: 0}\n",
      "Best Energy: -3499429.0\n"
     ]
    }
   ],
   "source": [
    "best_sample=sampleset.first.sample\n",
    "best_energy=sampleset.first.energy\n",
    "\n",
    "print(\"Best Sample:\", best_sample)\n",
    "print(\"Best Energy:\", best_energy)\n",
    "\n",
    "# map it back to answer\n",
    "solution=np.zeros(n_point*time_step, dtype=int)\n",
    "for index, var in enumerate(best_sample):\n",
    "    solution[index]=int(best_sample[var])"
   ]
  },
  {
   "cell_type": "code",
   "execution_count": 42,
   "metadata": {},
   "outputs": [
    {
     "name": "stdout",
     "output_type": "stream",
     "text": [
      "[[0 0 0 0 0 0 0 0]\n",
      " [1 0 0 0 0 0 0 0]\n",
      " [0 0 0 0 0 0 1 0]\n",
      " [0 0 0 0 1 0 0 0]\n",
      " [0 1 0 0 0 0 0 0]\n",
      " [0 0 0 0 0 1 0 0]\n",
      " [0 0 0 1 0 0 0 0]\n",
      " [0 0 1 0 0 0 0 0]]\n"
     ]
    }
   ],
   "source": [
    "#import sys\n",
    "#np.set_printoptions(threshold=sys.maxsize)\n",
    "#print(solution.reshape(n_point, time_step))\n",
    "solution=solution.reshape(n_point, time_step)\n",
    "print(solution)"
   ]
  },
  {
   "cell_type": "code",
   "execution_count": 43,
   "metadata": {},
   "outputs": [],
   "source": [
    "def check_c1():\n",
    "    for t in range(time_step):\n",
    "        cnt=0\n",
    "        for i in range(n_point):\n",
    "            cnt+=solution[i][t]\n",
    "        if cnt!=1:\n",
    "            return False\n",
    "    return True\n",
    "\n",
    "def check_c2():\n",
    "    for i in range(n_point):\n",
    "        cnt=0\n",
    "        for t in range(time_step):\n",
    "            cnt+=solution[i][t]\n",
    "        if cnt!=1:\n",
    "            return False\n",
    "    return True"
   ]
  },
  {
   "cell_type": "code",
   "execution_count": 44,
   "metadata": {},
   "outputs": [
    {
     "name": "stdout",
     "output_type": "stream",
     "text": [
      "x8 = 1 (city: 1, time: 0)\n",
      "x22 = 1 (city: 2, time: 6)\n",
      "x28 = 1 (city: 3, time: 4)\n",
      "x33 = 1 (city: 4, time: 1)\n",
      "x45 = 1 (city: 5, time: 5)\n",
      "x51 = 1 (city: 6, time: 3)\n",
      "x58 = 1 (city: 7, time: 2)\n",
      "[1, 4, 7, 6, 3, 5, 2, 0, 1]\n",
      "Number of visited: 9\n",
      "Number of unique: 8\n",
      "C1: False\n",
      "C2: False\n"
     ]
    }
   ],
   "source": [
    "routes=[0]*time_step\n",
    "for index, (key, val) in enumerate(best_sample.items()):\n",
    "    #print(index, key, val)\n",
    "    if val > 0.5:\n",
    "        print(f'x{index} = {val} (city: {int(index/time_step)}, time: {index%time_step})')\n",
    "        routes[index%time_step]=int(index/time_step)\n",
    "\n",
    "# append for drawing graph with Hamiltonian cycle by hand\n",
    "routes.append(routes[0])\n",
    "print(routes)\n",
    "print(\"Number of visited:\", len(routes))\n",
    "print(\"Number of unique:\", len(set(routes)))\n",
    "print(\"C1:\", check_c1())\n",
    "print(\"C2:\", check_c2())"
   ]
  },
  {
   "cell_type": "markdown",
   "metadata": {},
   "source": [
    "#### Visualization"
   ]
  },
  {
   "cell_type": "code",
   "execution_count": 45,
   "metadata": {},
   "outputs": [
    {
     "name": "stdout",
     "output_type": "stream",
     "text": [
      "Total cost: 1764.0\n"
     ]
    }
   ],
   "source": [
    "cost = 0\n",
    "for i in range(len(routes)-1):\n",
    "    cost += original_dist[routes[i]][routes[i+1]]  # DON'T FORGET TO USE THE ORIGINAL_DISTANCE_MATRIX EVERYTIME YOU MAPPED BACK TO THE ANSWER\n",
    "print(\"Total cost:\", cost)"
   ]
  },
  {
   "cell_type": "code",
   "execution_count": 46,
   "metadata": {},
   "outputs": [
    {
     "data": {
      "image/png": "[encoded data removed]",
      "text/plain": [
       "<Figure size 700x700 with 1 Axes>"
      ]
     },
     "metadata": {},
     "output_type": "display_data"
    }
   ],
   "source": [
    "plt.figure(figsize=(7, 7))\n",
    "\n",
    "for i in range(len(algo_dist[0])):\n",
    "    plt.scatter(df.iloc[i]['x'], df.iloc[i]['y'], c='red')\n",
    "    #plt.text(df.iloc[i]['x']+0.88, df.iloc[i]['y']+0.88, f'{i}')\n",
    "\n",
    "for i in range(len(routes)-1):\n",
    "    #plt.arrow(df.iloc[routes[i]]['x'], df.iloc[routes[i]]['y'], df.iloc[routes[i+1]]['x'] - df.iloc[routes[i]]['x'], df.iloc[routes[i+1]]['y'] - df.iloc[routes[i]]['y'], head_width=2, head_length=3, fc='blue', ec='blue')\n",
    "    x1, y1=df.iloc[routes[i]]['x'], df.iloc[routes[i]]['y']\n",
    "    x2, y2=df.iloc[routes[i+1]]['x'], df.iloc[routes[i+1]]['y']\n",
    "    plt.plot([x1, x2], [y1, y2], c='blue')\n",
    "\n",
    "    mid_x=(x1+x2)/2\n",
    "    mid_y=(y1+y2)/2\n",
    "    dx=(x2-x1)*0.05  # Offset along x-direction\n",
    "    dy=(y2-y1)*0.05  # Offset along y-direction\n",
    "    \n",
    "    #plt.annotate('', xy=(mid_x + dx, mid_y + dy), xytext=(mid_x, mid_y), arrowprops=dict(arrowstyle='->', color='blue'))\n",
    "    plt.annotate('', xy=(mid_x + dx, mid_y + dy), xytext=(mid_x, mid_y),\n",
    "                 arrowprops=dict(arrowstyle='simple, tail_width=0.5, head_width=0.69, head_length=0.69', color='blue'))\n",
    "        \n",
    "    try: \n",
    "        plt.title(f\"[{file_name}] LeapHybrid Total distance: {cost}\")\n",
    "    except:\n",
    "        plt.title(f\"LeapHybrid Total distance: {cost}\")\n",
    "plt.show()"
   ]
  }
 ],
 "metadata": {
  "kernelspec": {
   "display_name": "Python 3 (ipykernel)",
   "language": "python",
   "name": "python3"
  },
  "language_info": {
   "codemirror_mode": {
    "name": "ipython",
    "version": 3
   },
   "file_extension": ".py",
   "mimetype": "text/x-python",
   "name": "python",
   "nbconvert_exporter": "python",
   "pygments_lexer": "ipython3",
   "version": "3.12.2"
  }
 },
 "nbformat": 4,
 "nbformat_minor": 2
}
