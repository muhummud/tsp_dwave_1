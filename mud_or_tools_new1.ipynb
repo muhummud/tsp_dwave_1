{
 "cells": [
  {
   "cell_type": "code",
   "execution_count": 1107,
   "id": "72fb921f",
   "metadata": {},
   "outputs": [],
   "source": [
    "import numpy as np\n",
    "import matplotlib.pyplot as plt\n",
    "import pandas as pd\n",
    "import time\n",
    "from scipy.spatial import distance_matrix\n",
    "from sklearn.manifold import MDS\n",
    "#print(repr(d.astype(int)))\n"
   ]
  },
  {
   "cell_type": "markdown",
   "id": "24133056",
   "metadata": {},
   "source": [
    "!pip install scikit-learn"
   ]
  },
  {
   "cell_type": "code",
   "execution_count": 1108,
   "id": "3de4a487",
   "metadata": {},
   "outputs": [],
   "source": [
    "# open the sample file used \n",
    "\n",
    "file_name = '/mnt/f/year4/senior/FRI26/SP/MS/FRI26_SP-MS_t180.txt'\n",
    "name  = \"FRI26_SP-MS_t180.txt\"\n",
    "timelimit = 10\n",
    "#file_name = 'F:/year4/senior/FRI26_DN-th0250.txt'"
   ]
  },
  {
   "cell_type": "code",
   "execution_count": 1109,
   "id": "dcb00135",
   "metadata": {},
   "outputs": [],
   "source": [
    "# open the sample file used \n",
    "\n",
    "#file_name = '/mnt/f/year4/senior/GR17/GR17_GA-03.txt'\n",
    "#file_name = 'FRI26_DN-th0250.txt'\n",
    "\n",
    "file_path = open(file_name) \n",
    "# read the content of the file opened \n",
    "content = file_path.readlines() \n",
    "def read_tsp_instances_from_file(filename):\n",
    "    instances=[]\n",
    "    #print(filename[0])\n",
    "    first_line = filename[0]\n",
    "    _, _, num_samples_str = first_line.split()\n",
    "    global N_samples\n",
    "    N_samples, num_samples=int(num_samples_str), int(num_samples_str)\n",
    "    num_points=10\n",
    "    #print(num_samples_str)\n",
    "\n",
    "    #GR17 5 21, 24 40\n",
    "    #FRI26 5 30, 33 60\n",
    "    start_line = 33\n",
    "    end_line = 60\n",
    "    # loop through each N-Sample\n",
    "    for i, line in enumerate(filename):\n",
    "        if i in range(start_line-1, end_line):\n",
    "            #print(\"line\",i)\n",
    "            line=filename[i].strip()\n",
    "            try:\n",
    "                data=list(map(float, line.split()))\n",
    "                data=list(map(int, data))\n",
    "            except:\n",
    "                data=list(map(float, line.split(',')))\n",
    "\n",
    "            instances.append(data)\n",
    "    return instances\n",
    "\n",
    "tsp_instances=read_tsp_instances_from_file(content)"
   ]
  },
  {
   "cell_type": "code",
   "execution_count": 1110,
   "id": "e705155c",
   "metadata": {},
   "outputs": [
    {
     "name": "stdout",
     "output_type": "stream",
     "text": [
      "[[0, 0, 93, 129, 133, 139, 151, 169, 135, 114, 110, 98, 99, 95, 0, 152, 159, 181, 172, 185, 147, 157, 185, 220, 0, 181], [0, 0, 0, 53, 62, 64, 91, 116, 93, 84, 95, 98, 89, 68, 67, 127, 156, 175, 152, 165, 160, 180, 223, 268, 179, 197], [93, 0, 0, 0, 42, 49, 59, 81, 54, 44, 58, 64, 54, 0, 36, 86, 117, 135, 112, 125, 124, 147, 193, 241, 157, 161], [129, 53, 0, 0, 0, 0, 46, 72, 65, 70, 88, 100, 89, 66, 76, 102, 142, 156, 127, 139, 155, 180, 228, 278, 197, 190], [133, 62, 42, 0, 0, 0, 0, 61, 55, 62, 82, 95, 84, 62, 74, 93, 133, 146, 117, 128, 148, 173, 222, 272, 194, 182], [139, 64, 49, 0, 0, 0, 39, 65, 63, 71, 90, 103, 92, 71, 82, 100, 141, 153, 124, 135, 156, 181, 230, 280, 202, 190], [151, 91, 59, 46, 0, 39, 0, 0, 0, 52, 71, 88, 77, 63, 78, 66, 110, 119, 88, 98, 130, 156, 206, 257, 188, 160], [169, 116, 81, 72, 61, 65, 0, 0, 37, 59, 75, 92, 83, 76, 91, 54, 98, 103, 70, 78, 122, 148, 198, 250, 188, 148], [135, 93, 54, 65, 55, 63, 0, 37, 0, 0, 39, 56, 47, 40, 55, 0, 78, 91, 62, 74, 96, 122, 172, 223, 155, 128], [114, 84, 44, 70, 62, 71, 52, 59, 0, 0, 0, 36, 26, 0, 34, 43, 74, 91, 68, 82, 86, 111, 160, 210, 136, 121], [110, 95, 58, 88, 82, 90, 71, 75, 39, 0, 0, 18, 0, 27, 32, 0, 61, 80, 64, 77, 68, 92, 140, 190, 116, 103], [98, 98, 64, 100, 95, 103, 88, 92, 56, 36, 18, 0, 0, 34, 31, 56, 63, 85, 75, 87, 0, 83, 129, 178, 0, 99], [99, 89, 54, 89, 84, 92, 77, 83, 47, 26, 0, 0, 0, 0, 24, 53, 68, 89, 74, 87, 71, 93, 140, 189, 111, 107], [95, 68, 0, 66, 62, 71, 63, 76, 40, 0, 27, 34, 0, 0, 0, 62, 87, 106, 87, 100, 93, 116, 163, 212, 132, 130], [0, 67, 36, 76, 74, 82, 78, 91, 55, 34, 32, 31, 24, 0, 0, 73, 92, 112, 96, 109, 93, 113, 158, 205, 122, 130], [152, 127, 86, 102, 93, 100, 66, 54, 0, 43, 0, 56, 53, 62, 73, 0, 44, 54, 0, 39, 68, 94, 144, 196, 139, 95], [159, 156, 117, 142, 133, 141, 110, 98, 78, 74, 61, 63, 68, 87, 92, 44, 0, 0, 0, 38, 0, 53, 102, 154, 109, 51], [181, 175, 135, 156, 146, 153, 119, 103, 91, 91, 80, 85, 89, 106, 112, 54, 0, 0, 33, 0, 46, 64, 107, 157, 125, 0], [172, 152, 112, 127, 117, 124, 88, 70, 62, 68, 64, 75, 74, 87, 96, 0, 0, 33, 0, 0, 63, 87, 135, 186, 141, 81], [185, 165, 125, 139, 128, 135, 98, 78, 74, 82, 77, 87, 87, 100, 109, 39, 38, 0, 0, 0, 68, 90, 136, 186, 148, 79], [147, 160, 124, 155, 148, 156, 130, 122, 96, 86, 68, 0, 71, 93, 93, 68, 0, 46, 63, 68, 0, 0, 77, 128, 80, 37], [157, 180, 147, 180, 173, 181, 156, 148, 122, 111, 92, 83, 93, 116, 113, 94, 53, 64, 87, 90, 0, 0, 0, 102, 65, 0], [185, 223, 193, 228, 222, 230, 206, 198, 172, 160, 140, 129, 140, 163, 158, 144, 102, 107, 135, 136, 77, 0, 0, 0, 0, 58], [220, 268, 241, 278, 272, 280, 257, 250, 223, 210, 190, 178, 189, 212, 205, 196, 154, 157, 186, 186, 128, 102, 0, 0, 93, 107], [0, 179, 157, 197, 194, 202, 188, 188, 155, 136, 116, 0, 111, 132, 122, 139, 109, 125, 141, 148, 80, 65, 0, 93, 0, 90], [181, 197, 161, 190, 182, 190, 160, 148, 128, 121, 103, 99, 107, 130, 130, 95, 51, 0, 81, 79, 37, 0, 58, 107, 90, 0]]\n"
     ]
    }
   ],
   "source": [
    "print(tsp_instances)"
   ]
  },
  {
   "cell_type": "code",
   "execution_count": 1111,
   "id": "4f9f4190",
   "metadata": {},
   "outputs": [
    {
     "name": "stdout",
     "output_type": "stream",
     "text": [
      "points =  26\n"
     ]
    }
   ],
   "source": [
    "n_point=len(tsp_instances)\n",
    "time_step=n_point\n",
    "\n",
    "print(\"points = \", n_point)"
   ]
  },
  {
   "cell_type": "code",
   "execution_count": 1112,
   "id": "b9354d97",
   "metadata": {},
   "outputs": [],
   "source": [
    "def read_DN_origin(file_path, n_points):\n",
    "    start_line = 4\n",
    "    end_line = start_line + n_points\n",
    "    delimiter = ','\n",
    "    with open(file_path, 'r') as file: lines = file.readlines()\n",
    "    \n",
    "    distance_matrix=[]\n",
    "    for i, line in enumerate(lines):\n",
    "        if i in range(start_line, end_line):\n",
    "            try:\n",
    "                row=list(map(float, line.split()))\n",
    "            except:\n",
    "                row=list(map(float, line.split(',')))\n",
    "            distance_matrix.append(row)\n",
    "    \n",
    "    return np.array(distance_matrix)\n",
    "\n",
    "original_dist = read_DN_origin(file_name, len(tsp_instances[0]))"
   ]
  },
  {
   "cell_type": "code",
   "execution_count": 1113,
   "id": "dab2e6ed",
   "metadata": {},
   "outputs": [
    {
     "name": "stdout",
     "output_type": "stream",
     "text": [
      "26\n"
     ]
    },
    {
     "data": {
      "text/html": [
       "<div>\n",
       "<style scoped>\n",
       "    .dataframe tbody tr th:only-of-type {\n",
       "        vertical-align: middle;\n",
       "    }\n",
       "\n",
       "    .dataframe tbody tr th {\n",
       "        vertical-align: top;\n",
       "    }\n",
       "\n",
       "    .dataframe thead th {\n",
       "        text-align: right;\n",
       "    }\n",
       "</style>\n",
       "<table border=\"1\" class=\"dataframe\">\n",
       "  <thead>\n",
       "    <tr style=\"text-align: right;\">\n",
       "      <th></th>\n",
       "      <th>x</th>\n",
       "      <th>y</th>\n",
       "    </tr>\n",
       "  </thead>\n",
       "  <tbody>\n",
       "    <tr>\n",
       "      <th>0</th>\n",
       "      <td>0.357724</td>\n",
       "      <td>1.000000</td>\n",
       "    </tr>\n",
       "    <tr>\n",
       "      <th>1</th>\n",
       "      <td>0.093095</td>\n",
       "      <td>0.792767</td>\n",
       "    </tr>\n",
       "    <tr>\n",
       "      <th>2</th>\n",
       "      <td>0.157216</td>\n",
       "      <td>0.597834</td>\n",
       "    </tr>\n",
       "    <tr>\n",
       "      <th>3</th>\n",
       "      <td>0.014523</td>\n",
       "      <td>0.530926</td>\n",
       "    </tr>\n",
       "    <tr>\n",
       "      <th>4</th>\n",
       "      <td>0.030298</td>\n",
       "      <td>0.474642</td>\n",
       "    </tr>\n",
       "    <tr>\n",
       "      <th>5</th>\n",
       "      <td>0.000000</td>\n",
       "      <td>0.476828</td>\n",
       "    </tr>\n",
       "    <tr>\n",
       "      <th>6</th>\n",
       "      <td>0.076393</td>\n",
       "      <td>0.300627</td>\n",
       "    </tr>\n",
       "    <tr>\n",
       "      <th>7</th>\n",
       "      <td>0.107829</td>\n",
       "      <td>0.166909</td>\n",
       "    </tr>\n",
       "    <tr>\n",
       "      <th>8</th>\n",
       "      <td>0.198160</td>\n",
       "      <td>0.312979</td>\n",
       "    </tr>\n",
       "    <tr>\n",
       "      <th>9</th>\n",
       "      <td>0.249213</td>\n",
       "      <td>0.404370</td>\n",
       "    </tr>\n",
       "    <tr>\n",
       "      <th>10</th>\n",
       "      <td>0.321448</td>\n",
       "      <td>0.410690</td>\n",
       "    </tr>\n",
       "    <tr>\n",
       "      <th>11</th>\n",
       "      <td>0.371082</td>\n",
       "      <td>0.470521</td>\n",
       "    </tr>\n",
       "    <tr>\n",
       "      <th>12</th>\n",
       "      <td>0.330794</td>\n",
       "      <td>0.468273</td>\n",
       "    </tr>\n",
       "    <tr>\n",
       "      <th>13</th>\n",
       "      <td>0.252736</td>\n",
       "      <td>0.512666</td>\n",
       "    </tr>\n",
       "    <tr>\n",
       "      <th>14</th>\n",
       "      <td>0.286191</td>\n",
       "      <td>0.577916</td>\n",
       "    </tr>\n",
       "    <tr>\n",
       "      <th>15</th>\n",
       "      <td>0.301392</td>\n",
       "      <td>0.185696</td>\n",
       "    </tr>\n",
       "    <tr>\n",
       "      <th>16</th>\n",
       "      <td>0.458125</td>\n",
       "      <td>0.154792</td>\n",
       "    </tr>\n",
       "    <tr>\n",
       "      <th>17</th>\n",
       "      <td>0.466081</td>\n",
       "      <td>0.035134</td>\n",
       "    </tr>\n",
       "    <tr>\n",
       "      <th>18</th>\n",
       "      <td>0.351258</td>\n",
       "      <td>0.068494</td>\n",
       "    </tr>\n",
       "    <tr>\n",
       "      <th>19</th>\n",
       "      <td>0.365205</td>\n",
       "      <td>0.000000</td>\n",
       "    </tr>\n",
       "    <tr>\n",
       "      <th>20</th>\n",
       "      <td>0.541429</td>\n",
       "      <td>0.255556</td>\n",
       "    </tr>\n",
       "    <tr>\n",
       "      <th>21</th>\n",
       "      <td>0.635703</td>\n",
       "      <td>0.264777</td>\n",
       "    </tr>\n",
       "    <tr>\n",
       "      <th>22</th>\n",
       "      <td>0.816428</td>\n",
       "      <td>0.278291</td>\n",
       "    </tr>\n",
       "    <tr>\n",
       "      <th>23</th>\n",
       "      <td>1.000000</td>\n",
       "      <td>0.294909</td>\n",
       "    </tr>\n",
       "    <tr>\n",
       "      <th>24</th>\n",
       "      <td>0.722448</td>\n",
       "      <td>0.589610</td>\n",
       "    </tr>\n",
       "    <tr>\n",
       "      <th>25</th>\n",
       "      <td>0.638830</td>\n",
       "      <td>0.118791</td>\n",
       "    </tr>\n",
       "  </tbody>\n",
       "</table>\n",
       "</div>"
      ],
      "text/plain": [
       "           x         y\n",
       "0   0.357724  1.000000\n",
       "1   0.093095  0.792767\n",
       "2   0.157216  0.597834\n",
       "3   0.014523  0.530926\n",
       "4   0.030298  0.474642\n",
       "5   0.000000  0.476828\n",
       "6   0.076393  0.300627\n",
       "7   0.107829  0.166909\n",
       "8   0.198160  0.312979\n",
       "9   0.249213  0.404370\n",
       "10  0.321448  0.410690\n",
       "11  0.371082  0.470521\n",
       "12  0.330794  0.468273\n",
       "13  0.252736  0.512666\n",
       "14  0.286191  0.577916\n",
       "15  0.301392  0.185696\n",
       "16  0.458125  0.154792\n",
       "17  0.466081  0.035134\n",
       "18  0.351258  0.068494\n",
       "19  0.365205  0.000000\n",
       "20  0.541429  0.255556\n",
       "21  0.635703  0.264777\n",
       "22  0.816428  0.278291\n",
       "23  1.000000  0.294909\n",
       "24  0.722448  0.589610\n",
       "25  0.638830  0.118791"
      ]
     },
     "execution_count": 1113,
     "metadata": {},
     "output_type": "execute_result"
    }
   ],
   "source": [
    "mds=MDS(n_components=2, dissimilarity='precomputed', normalized_stress='auto', random_state=42)\n",
    "coordinates=mds.fit_transform(original_dist)\n",
    "coordinates-=coordinates.min(axis=0)\n",
    "coordinates/=coordinates.max(axis=0)\n",
    "df=pd.DataFrame(coordinates, columns=['x', 'y'])\n",
    "print(len(df))\n",
    "df"
   ]
  },
  {
   "cell_type": "code",
   "execution_count": 1114,
   "id": "c1149bcc",
   "metadata": {},
   "outputs": [
    {
     "data": {
      "image/png": "[encoded data removed]",
      "text/plain": [
       "<Figure size 360x360 with 1 Axes>"
      ]
     },
     "metadata": {
      "needs_background": "light"
     },
     "output_type": "display_data"
    }
   ],
   "source": [
    "plt.figure(figsize=(5, 5))\n",
    "\n",
    "city_index=\"ABCDEFGHIJKLMNOPQRSTUVWXYZ\"\n",
    "for i in range(len(df)):\n",
    "    plt.scatter(df.iloc[i]['x'], df.iloc[i]['y'], c='red', s=8)\n",
    "    if n_point<=26:\n",
    "        plt.text(df.iloc[i]['x']+0.01, df.iloc[i]['y']+0.01, f'{city_index[i]}', fontsize=8)\n",
    "    else:\n",
    "        plt.text(df.iloc[i]['x']+0.01, df.iloc[i]['y']+0.01, f'{i}')\n",
    "\n",
    "plt.title(file_name)\n",
    "plt.show()"
   ]
  },
  {
   "cell_type": "markdown",
   "id": "898caec7",
   "metadata": {},
   "source": [
    "!pip install --upgrade --user ortools"
   ]
  },
  {
   "cell_type": "code",
   "execution_count": 1115,
   "id": "deffed88",
   "metadata": {},
   "outputs": [],
   "source": [
    "from ortools.constraint_solver import routing_enums_pb2\n",
    "from ortools.constraint_solver import pywrapcp\n",
    "\n",
    "\n",
    "def create_data_model(matrix):\n",
    "    \"\"\"Stores the data for the problem.\"\"\"\n",
    "    data = {}\n",
    "    data[\"distance_matrix\"]=matrix\n",
    "    data[\"num_vehicles\"] = 1\n",
    "    data[\"depot\"] = 0\n",
    "#    print(\"infunction\\n\" + data[\"distance_matrix\"])\n",
    "    return data\n",
    "\n"
   ]
  },
  {
   "cell_type": "code",
   "execution_count": 1116,
   "id": "9f578b29",
   "metadata": {},
   "outputs": [],
   "source": [
    "def print_solution(manager, routing, solution):\n",
    "    \"\"\"Prints solution on console.\"\"\"\n",
    "    print(f\"Objective: {solution.ObjectiveValue()} miles\")\n",
    "    index = routing.Start(0)\n",
    "    plan_output = \"Route for vehicle 0:\\n\"\n",
    "    route_distance = 0\n",
    "    while not routing.IsEnd(index):\n",
    "        plan_output += f\" {manager.IndexToNode(index)} ->\"\n",
    "        previous_index = index\n",
    "        index = solution.Value(routing.NextVar(index))\n",
    "        route_distance += routing.GetArcCostForVehicle(previous_index, index, 0)\n",
    "    plan_output += f\" {manager.IndexToNode(index)}\\n\"\n",
    "    print(plan_output)\n",
    "    plan_output += f\"Route distance: {route_distance}miles\\n\"\n",
    "    return solution.ObjectiveValue()\n"
   ]
  },
  {
   "cell_type": "code",
   "execution_count": 1117,
   "id": "9dad67a3",
   "metadata": {},
   "outputs": [],
   "source": [
    "def distance_callback(from_index, to_index):\n",
    "    \"\"\"Returns the distance between the two nodes.\"\"\"\n",
    "    # Convert from routing variable Index to distance matrix NodeIndex.\n",
    "    from_node = manager.IndexToNode(from_index)\n",
    "    to_node = manager.IndexToNode(to_index)\n",
    "    return data[\"distance_matrix\"][from_node][to_node]\n",
    "\n",
    "#transit_callback_index = routing.RegisterTransitCallback(distance_callback)"
   ]
  },
  {
   "cell_type": "code",
   "execution_count": 1118,
   "id": "601a3024",
   "metadata": {},
   "outputs": [],
   "source": [
    "def get_routes(solution, routing, manager):\n",
    "  \"\"\"Get vehicle routes from a solution and store them in an array.\"\"\"\n",
    "  # Get vehicle routes and store them in a two dimensional array whose\n",
    "  # i,j entry is the jth location visited by vehicle i along its route.\n",
    "  routes = []\n",
    "  for route_nbr in range(routing.vehicles()):\n",
    "    index = routing.Start(route_nbr)\n",
    "    route = [manager.IndexToNode(index)]\n",
    "    while not routing.IsEnd(index):\n",
    "      index = solution.Value(routing.NextVar(index))\n",
    "      route.append(manager.IndexToNode(index))\n",
    "    routes.append(route)\n",
    "  return routes"
   ]
  },
  {
   "cell_type": "code",
   "execution_count": 1119,
   "id": "6b41a89d",
   "metadata": {},
   "outputs": [
    {
     "name": "stdout",
     "output_type": "stream",
     "text": [
      "Objective: 178 miles\n",
      "Route for vehicle 0:\n",
      " 0 -> 24 -> 23 -> 22 -> 21 -> 25 -> 17 -> 19 -> 18 -> 16 -> 20 -> 11 -> 14 -> 13 -> 12 -> 10 -> 9 -> 8 -> 15 -> 7 -> 6 -> 4 -> 5 -> 3 -> 2 -> 1 -> 0\n",
      "\n",
      "Route 0 [0, 24, 23, 22, 21, 25, 17, 19, 18, 16, 20, 11, 14, 13, 12, 10, 9, 8, 15, 7, 6, 4, 5, 3, 2, 1, 0]\n",
      "The time of execution of above program is : 6.066799163818359 ms\n"
     ]
    }
   ],
   "source": [
    "\n",
    "\"\"\"Entry point of the program.\"\"\"\n",
    "# Instantiate the data problem.\n",
    "data = create_data_model(tsp_instances)\n",
    "\n",
    "# Create the routing index manager.\n",
    "manager = pywrapcp.RoutingIndexManager(\n",
    "    len(data[\"distance_matrix\"]), data[\"num_vehicles\"], data[\"depot\"]\n",
    ")\n",
    "\n",
    "# Create Routing Model.\n",
    "routing = pywrapcp.RoutingModel(manager)\n",
    "\n",
    "\n",
    "def distance_callback(from_index, to_index):\n",
    "    \"\"\"Returns the distance between the two nodes.\"\"\"\n",
    "    # Convert from routing variable Index to distance matrix NodeIndex.\n",
    "    from_node = manager.IndexToNode(from_index)\n",
    "    to_node = manager.IndexToNode(to_index)\n",
    "    return data[\"distance_matrix\"][from_node][to_node]\n",
    "\n",
    "transit_callback_index = routing.RegisterTransitCallback(distance_callback)\n",
    "\n",
    "# Define cost of each arc.\n",
    "routing.SetArcCostEvaluatorOfAllVehicles(transit_callback_index)\n",
    "\n",
    "# Setting first solution heuristic.\n",
    "search_parameters = pywrapcp.DefaultRoutingSearchParameters()\n",
    "search_parameters.first_solution_strategy = (\n",
    "    routing_enums_pb2.FirstSolutionStrategy.PATH_CHEAPEST_ARC\n",
    ")\n",
    "search_parameters.time_limit.seconds = 10\n",
    "start = time.time()\n",
    "# Solve the problem.\n",
    "solution = routing.SolveWithParameters(search_parameters)\n",
    "end = time.time()\n",
    "# Print solution on console.\n",
    "if solution:\n",
    "    print_solution(manager, routing, solution)\n",
    "        \n",
    "routes = get_routes(solution, routing, manager)\n",
    "# Display the routes.\n",
    "cost = solution.ObjectiveValue()\n",
    "for i, route in enumerate(routes):\n",
    "    print('Route', i, route)\n",
    "print(\"The time of execution of above program is :\", (end-start) * 10**3, \"ms\")"
   ]
  },
  {
   "cell_type": "code",
   "execution_count": 1120,
   "id": "1aab5266",
   "metadata": {
    "scrolled": false
   },
   "outputs": [
    {
     "data": {
      "text/plain": [
       "[0,\n",
       " 24,\n",
       " 23,\n",
       " 22,\n",
       " 21,\n",
       " 25,\n",
       " 17,\n",
       " 19,\n",
       " 18,\n",
       " 16,\n",
       " 20,\n",
       " 11,\n",
       " 14,\n",
       " 13,\n",
       " 12,\n",
       " 10,\n",
       " 9,\n",
       " 8,\n",
       " 15,\n",
       " 7,\n",
       " 6,\n",
       " 4,\n",
       " 5,\n",
       " 3,\n",
       " 2,\n",
       " 1,\n",
       " 0]"
      ]
     },
     "execution_count": 1120,
     "metadata": {},
     "output_type": "execute_result"
    }
   ],
   "source": [
    "routes[0]"
   ]
  },
  {
   "cell_type": "code",
   "execution_count": 1121,
   "id": "5ef5b691",
   "metadata": {},
   "outputs": [
    {
     "data": {
      "text/plain": [
       "178"
      ]
     },
     "execution_count": 1121,
     "metadata": {},
     "output_type": "execute_result"
    }
   ],
   "source": [
    "cost"
   ]
  },
  {
   "cell_type": "code",
   "execution_count": 1122,
   "id": "1222cd2a",
   "metadata": {},
   "outputs": [],
   "source": [
    "def list_duplicates(seq):\n",
    "  seen = set()\n",
    "  seen_add = seen.add\n",
    "  # adds all elements it doesn't know yet to seen and all other to seen_twice\n",
    "  seen_twice = set( x for x in seq if x in seen or seen_add(x) )\n",
    "  # turn the set into a list (as requested)\n",
    "  return list( seen_twice )"
   ]
  },
  {
   "cell_type": "code",
   "execution_count": 1123,
   "id": "2c256f24",
   "metadata": {},
   "outputs": [
    {
     "name": "stdout",
     "output_type": "stream",
     "text": [
      "[0]\n",
      "27\n"
     ]
    }
   ],
   "source": [
    "print(list_duplicates(routes[0]))\n",
    "print(len(routes[0]))"
   ]
  },
  {
   "cell_type": "code",
   "execution_count": 1124,
   "id": "2488327d",
   "metadata": {},
   "outputs": [
    {
     "data": {
      "image/png": "[encoded data removed]",
      "text/plain": [
       "<Figure size 504x504 with 1 Axes>"
      ]
     },
     "metadata": {
      "needs_background": "light"
     },
     "output_type": "display_data"
    }
   ],
   "source": [
    "plt.figure(figsize=(7, 7))\n",
    "#routes = [0, 3, 12, 6, 7, 5, 16, 13, 14, 2, 10, 9, 1, 4, 8, 11, 15, 0]\n",
    "#cost = 2085\n",
    "for i in range(len(tsp_instances[0])):\n",
    "    plt.scatter(df.iloc[i]['x'], df.iloc[i]['y'], c='red')\n",
    "    #plt.text(df.iloc[i]['x']+0.88, df.iloc[i]['y']+0.88, f'{i}')\n",
    "\n",
    "for i in range(len(routes[0])-1):\n",
    "    #plt.arrow(df.iloc[routes[i]]['x'], df.iloc[routes[i]]['y'], df.iloc[routes[i+1]]['x'] - df.iloc[routes[i]]['x'], df.iloc[routes[i+1]]['y'] - df.iloc[routes[i]]['y'], head_width=2, head_length=3, fc='blue', ec='blue')\n",
    "    x1, y1=df.iloc[routes[0][i]]['x'], df.iloc[routes[0][i]]['y']\n",
    "    x2, y2=df.iloc[routes[0][i+1]]['x'], df.iloc[routes[0][i+1]]['y']\n",
    "    plt.plot([x1, x2], [y1, y2], c='blue')\n",
    "\n",
    "    mid_x=(x1+x2)/2\n",
    "    mid_y=(y1+y2)/2\n",
    "    dx=(x2-x1)*0.05  # Offset along x-direction\n",
    "    dy=(y2-y1)*0.05  # Offset along y-direction\n",
    "    \n",
    "    #plt.annotate('', xy=(mid_x + dx, mid_y + dy), xytext=(mid_x, mid_y), arrowprops=dict(arrowstyle='->', color='blue'))\n",
    "    plt.annotate('', xy=(mid_x + dx, mid_y + dy), xytext=(mid_x, mid_y),\n",
    "                 arrowprops=dict(arrowstyle='simple, tail_width=0.5, head_width=0.69, head_length=0.69', color='blue'))\n",
    "        \n",
    "    try: \n",
    "        plt.title(f\"[{name}] Google or-tools Total distance: {cost} time limit: {timelimit}s\")\n",
    "    except:\n",
    "        plt.title(f\"LeapHybrid Total distance: {cost}\")\n",
    "plt.show()"
   ]
  },
  {
   "cell_type": "code",
   "execution_count": null,
   "id": "f8f422d9",
   "metadata": {},
   "outputs": [],
   "source": []
  }
 ],
 "metadata": {
  "kernelspec": {
   "display_name": "Python 3 (ipykernel)",
   "language": "python",
   "name": "python3"
  },
  "language_info": {
   "codemirror_mode": {
    "name": "ipython",
    "version": 3
   },
   "file_extension": ".py",
   "mimetype": "text/x-python",
   "name": "python",
   "nbconvert_exporter": "python",
   "pygments_lexer": "ipython3",
   "version": "3.10.12"
  }
 },
 "nbformat": 4,
 "nbformat_minor": 5
}
