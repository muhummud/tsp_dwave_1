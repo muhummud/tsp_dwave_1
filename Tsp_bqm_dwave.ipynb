{
 "cells": [
  {
   "cell_type": "markdown",
   "metadata": {},
   "source": [
    "## Traveling Salesperson Problem with DWAVEQUBO\n",
    "![](https://upload.wikimedia.org/wikipedia/commons/4/4f/Logo_dwave.png)"
   ]
  },
  {
   "cell_type": "code",
   "execution_count": 1,
   "metadata": {},
   "outputs": [
    {
     "name": "stdout",
     "output_type": "stream",
     "text": [
      "1.26.4\n"
     ]
    }
   ],
   "source": [
    "import numpy\n",
    "print(numpy.__version__)"
   ]
  },
  {
   "cell_type": "code",
   "execution_count": 2,
   "metadata": {},
   "outputs": [],
   "source": [
    "import numpy as np\n",
    "import pandas as pd\n",
    "from scipy.spatial import distance_matrix\n",
    "import matplotlib.pyplot as plt\n",
    "import networkx as nx\n",
    "from sklearn.manifold import MDS"
   ]
  },
  {
   "cell_type": "markdown",
   "metadata": {},
   "source": [
    "http://comopt.ifi.uni-heidelberg.de/software/TSPLIB95/\n",
    "![](https://upload.wikimedia.org/wikipedia/commons/thumb/e/ea/Ruprecht-Karls-Universit%C3%A4t_Heidelberg_Logo.svg/2560px-Ruprecht-Karls-Universit%C3%A4t_Heidelberg_Logo.svg.png)"
   ]
  },
  {
   "cell_type": "code",
   "execution_count": 3,
   "metadata": {},
   "outputs": [],
   "source": [
    "# open the sample file used \n",
    "\n",
    "#file_name = 'GR17_DN-th0175.txt'\n",
    "file_name = 'FRI26_DN-th0250.txt'\n",
    "\n",
    "file_path = open(file_name) \n",
    "# read the content of the file opened \n",
    "content = file_path.readlines() \n",
    "def read_tsp_instances_from_file(filename):\n",
    "    instances=[]\n",
    "    #print(filename[0])\n",
    "    first_line = filename[0]\n",
    "    _, _, num_samples_str = first_line.split()\n",
    "    global N_samples\n",
    "    N_samples, num_samples=int(num_samples_str), int(num_samples_str)\n",
    "    num_points=10\n",
    "    #print(num_samples_str)\n",
    "\n",
    "\n",
    "    start_line = 33\n",
    "    end_line = 58\n",
    "    # loop through each N-Sample\n",
    "    for i, line in enumerate(filename):\n",
    "        if i in range(start_line-1, end_line):\n",
    "            #print(\"line\",i)\n",
    "            line=filename[i].strip()\n",
    "            try:\n",
    "                data=list(map(float, line.split()))\n",
    "            except:\n",
    "                data=list(map(float, line.split(',')))\n",
    "\n",
    "            instances.append(data)\n",
    "    return instances\n",
    "\n",
    "tsp_instances=read_tsp_instances_from_file(content)"
   ]
  },
  {
   "cell_type": "code",
   "execution_count": 4,
   "metadata": {},
   "outputs": [
    {
     "name": "stdout",
     "output_type": "stream",
     "text": [
      "[[0.0, 83.0, 93.0, 129.0, 1000000.0, 1000000.0, 1000000.0, 1000000.0, 1000000.0, 1000000.0, 1000000.0, 1000000.0, 1000000.0, 1000000.0, 81.0, 1000000.0, 1000000.0, 1000000.0, 1000000.0, 1000000.0, 1000000.0, 1000000.0, 1000000.0, 1000000.0, 127.0, 1000000.0], [83.0, 0.0, 40.0, 53.0, 62.0, 64.0, 1000000.0, 1000000.0, 1000000.0, 1000000.0, 1000000.0, 1000000.0, 1000000.0, 1000000.0, 67.0, 1000000.0, 1000000.0, 1000000.0, 1000000.0, 1000000.0, 1000000.0, 1000000.0, 1000000.0, 1000000.0, 1000000.0, 1000000.0], [93.0, 40.0, 0.0, 42.0, 42.0, 49.0, 1000000.0, 1000000.0, 1000000.0, 1000000.0, 1000000.0, 1000000.0, 1000000.0, 31.0, 36.0, 1000000.0, 1000000.0, 1000000.0, 1000000.0, 1000000.0, 1000000.0, 1000000.0, 1000000.0, 1000000.0, 1000000.0, 1000000.0], [129.0, 53.0, 42.0, 0.0, 11.0, 11.0, 46.0, 1000000.0, 65.0, 70.0, 1000000.0, 1000000.0, 1000000.0, 66.0, 1000000.0, 1000000.0, 1000000.0, 1000000.0, 1000000.0, 1000000.0, 1000000.0, 1000000.0, 1000000.0, 1000000.0, 1000000.0, 1000000.0], [1000000.0, 62.0, 42.0, 11.0, 0.0, 9.0, 35.0, 61.0, 55.0, 62.0, 1000000.0, 1000000.0, 1000000.0, 1000000.0, 1000000.0, 1000000.0, 1000000.0, 1000000.0, 1000000.0, 1000000.0, 1000000.0, 1000000.0, 1000000.0, 1000000.0, 1000000.0, 1000000.0], [1000000.0, 64.0, 49.0, 11.0, 9.0, 0.0, 39.0, 65.0, 63.0, 71.0, 1000000.0, 1000000.0, 1000000.0, 1000000.0, 1000000.0, 1000000.0, 1000000.0, 1000000.0, 1000000.0, 1000000.0, 1000000.0, 1000000.0, 1000000.0, 1000000.0, 1000000.0, 1000000.0], [1000000.0, 1000000.0, 1000000.0, 46.0, 35.0, 39.0, 0.0, 26.0, 34.0, 52.0, 1000000.0, 1000000.0, 1000000.0, 1000000.0, 1000000.0, 66.0, 1000000.0, 1000000.0, 1000000.0, 1000000.0, 1000000.0, 1000000.0, 1000000.0, 1000000.0, 1000000.0, 1000000.0], [1000000.0, 1000000.0, 1000000.0, 1000000.0, 61.0, 65.0, 26.0, 0.0, 37.0, 1000000.0, 1000000.0, 1000000.0, 1000000.0, 1000000.0, 1000000.0, 54.0, 1000000.0, 1000000.0, 70.0, 78.0, 1000000.0, 1000000.0, 1000000.0, 1000000.0, 1000000.0, 1000000.0], [1000000.0, 1000000.0, 1000000.0, 65.0, 55.0, 63.0, 34.0, 37.0, 0.0, 22.0, 39.0, 1000000.0, 1000000.0, 1000000.0, 1000000.0, 37.0, 1000000.0, 1000000.0, 1000000.0, 1000000.0, 1000000.0, 1000000.0, 1000000.0, 1000000.0, 1000000.0, 1000000.0], [1000000.0, 1000000.0, 1000000.0, 70.0, 62.0, 71.0, 52.0, 1000000.0, 22.0, 0.0, 20.0, 36.0, 26.0, 20.0, 1000000.0, 43.0, 1000000.0, 1000000.0, 1000000.0, 1000000.0, 1000000.0, 1000000.0, 1000000.0, 1000000.0, 1000000.0, 1000000.0], [1000000.0, 1000000.0, 1000000.0, 1000000.0, 1000000.0, 1000000.0, 1000000.0, 1000000.0, 39.0, 20.0, 0.0, 18.0, 11.0, 27.0, 32.0, 42.0, 1000000.0, 1000000.0, 1000000.0, 1000000.0, 68.0, 1000000.0, 1000000.0, 1000000.0, 1000000.0, 1000000.0], [1000000.0, 1000000.0, 1000000.0, 1000000.0, 1000000.0, 1000000.0, 1000000.0, 1000000.0, 1000000.0, 36.0, 18.0, 0.0, 11.0, 34.0, 31.0, 1000000.0, 1000000.0, 1000000.0, 1000000.0, 1000000.0, 62.0, 1000000.0, 1000000.0, 1000000.0, 100.0, 1000000.0], [1000000.0, 1000000.0, 1000000.0, 1000000.0, 1000000.0, 1000000.0, 1000000.0, 1000000.0, 1000000.0, 26.0, 11.0, 11.0, 0.0, 23.0, 24.0, 1000000.0, 1000000.0, 1000000.0, 1000000.0, 1000000.0, 1000000.0, 1000000.0, 1000000.0, 1000000.0, 1000000.0, 1000000.0], [1000000.0, 1000000.0, 31.0, 66.0, 1000000.0, 1000000.0, 1000000.0, 1000000.0, 1000000.0, 20.0, 27.0, 34.0, 23.0, 0.0, 15.0, 1000000.0, 1000000.0, 1000000.0, 1000000.0, 1000000.0, 1000000.0, 1000000.0, 1000000.0, 1000000.0, 1000000.0, 1000000.0], [81.0, 67.0, 36.0, 1000000.0, 1000000.0, 1000000.0, 1000000.0, 1000000.0, 1000000.0, 1000000.0, 32.0, 31.0, 24.0, 15.0, 0.0, 1000000.0, 1000000.0, 1000000.0, 1000000.0, 1000000.0, 1000000.0, 1000000.0, 1000000.0, 1000000.0, 1000000.0, 1000000.0], [1000000.0, 1000000.0, 1000000.0, 1000000.0, 1000000.0, 1000000.0, 66.0, 54.0, 37.0, 43.0, 42.0, 1000000.0, 1000000.0, 1000000.0, 1000000.0, 0.0, 44.0, 54.0, 26.0, 39.0, 1000000.0, 1000000.0, 1000000.0, 1000000.0, 1000000.0, 1000000.0], [1000000.0, 1000000.0, 1000000.0, 1000000.0, 1000000.0, 1000000.0, 1000000.0, 1000000.0, 1000000.0, 1000000.0, 1000000.0, 1000000.0, 1000000.0, 1000000.0, 1000000.0, 44.0, 0.0, 22.0, 34.0, 38.0, 30.0, 1000000.0, 1000000.0, 1000000.0, 1000000.0, 51.0], [1000000.0, 1000000.0, 1000000.0, 1000000.0, 1000000.0, 1000000.0, 1000000.0, 1000000.0, 1000000.0, 1000000.0, 1000000.0, 1000000.0, 1000000.0, 1000000.0, 1000000.0, 54.0, 22.0, 0.0, 33.0, 29.0, 46.0, 1000000.0, 1000000.0, 1000000.0, 1000000.0, 51.0], [1000000.0, 1000000.0, 1000000.0, 1000000.0, 1000000.0, 1000000.0, 1000000.0, 70.0, 1000000.0, 1000000.0, 1000000.0, 1000000.0, 1000000.0, 1000000.0, 1000000.0, 26.0, 34.0, 33.0, 0.0, 13.0, 1000000.0, 1000000.0, 1000000.0, 1000000.0, 1000000.0, 1000000.0], [1000000.0, 1000000.0, 1000000.0, 1000000.0, 1000000.0, 1000000.0, 1000000.0, 78.0, 1000000.0, 1000000.0, 1000000.0, 1000000.0, 1000000.0, 1000000.0, 1000000.0, 39.0, 38.0, 29.0, 13.0, 0.0, 1000000.0, 1000000.0, 1000000.0, 1000000.0, 1000000.0, 1000000.0], [1000000.0, 1000000.0, 1000000.0, 1000000.0, 1000000.0, 1000000.0, 1000000.0, 1000000.0, 1000000.0, 1000000.0, 68.0, 62.0, 1000000.0, 1000000.0, 1000000.0, 1000000.0, 30.0, 46.0, 1000000.0, 1000000.0, 0.0, 26.0, 1000000.0, 128.0, 80.0, 37.0], [1000000.0, 1000000.0, 1000000.0, 1000000.0, 1000000.0, 1000000.0, 1000000.0, 1000000.0, 1000000.0, 1000000.0, 1000000.0, 1000000.0, 1000000.0, 1000000.0, 1000000.0, 1000000.0, 1000000.0, 1000000.0, 1000000.0, 1000000.0, 26.0, 0.0, 50.0, 102.0, 65.0, 27.0], [1000000.0, 1000000.0, 1000000.0, 1000000.0, 1000000.0, 1000000.0, 1000000.0, 1000000.0, 1000000.0, 1000000.0, 1000000.0, 1000000.0, 1000000.0, 1000000.0, 1000000.0, 1000000.0, 1000000.0, 1000000.0, 1000000.0, 1000000.0, 1000000.0, 50.0, 0.0, 51.0, 64.0, 58.0], [1000000.0, 1000000.0, 1000000.0, 1000000.0, 1000000.0, 1000000.0, 1000000.0, 1000000.0, 1000000.0, 1000000.0, 1000000.0, 1000000.0, 1000000.0, 1000000.0, 1000000.0, 1000000.0, 1000000.0, 1000000.0, 1000000.0, 1000000.0, 128.0, 102.0, 51.0, 0.0, 93.0, 107.0], [127.0, 1000000.0, 1000000.0, 1000000.0, 1000000.0, 1000000.0, 1000000.0, 1000000.0, 1000000.0, 1000000.0, 1000000.0, 100.0, 1000000.0, 1000000.0, 1000000.0, 1000000.0, 1000000.0, 1000000.0, 1000000.0, 1000000.0, 80.0, 65.0, 64.0, 93.0, 0.0, 1000000.0], [1000000.0, 1000000.0, 1000000.0, 1000000.0, 1000000.0, 1000000.0, 1000000.0, 1000000.0, 1000000.0, 1000000.0, 1000000.0, 1000000.0, 1000000.0, 1000000.0, 1000000.0, 1000000.0, 51.0, 51.0, 1000000.0, 1000000.0, 37.0, 27.0, 58.0, 107.0, 1000000.0, 0.0]]\n"
     ]
    }
   ],
   "source": [
    "print(tsp_instances)"
   ]
  },
  {
   "cell_type": "code",
   "execution_count": 5,
   "metadata": {},
   "outputs": [
    {
     "name": "stdout",
     "output_type": "stream",
     "text": [
      "points =  26\n"
     ]
    }
   ],
   "source": [
    "n_point=len(tsp_instances)\n",
    "time_step=n_point\n",
    "\n",
    "print(\"points = \", n_point)"
   ]
  },
  {
   "cell_type": "code",
   "execution_count": 6,
   "metadata": {},
   "outputs": [],
   "source": [
    "def read_DN_origin(file_path, n_points):\n",
    "    start_line = 4\n",
    "    end_line = start_line + n_points\n",
    "    delimiter = ','\n",
    "    with open(file_path, 'r') as file: lines = file.readlines()\n",
    "    \n",
    "    distance_matrix=[]\n",
    "    for i, line in enumerate(lines):\n",
    "        if i in range(start_line, end_line):\n",
    "            try:\n",
    "                row=list(map(float, line.split()))\n",
    "            except:\n",
    "                row=list(map(float, line.split(',')))\n",
    "            distance_matrix.append(row)\n",
    "    \n",
    "    return np.array(distance_matrix)\n",
    "\n",
    "original_dist = read_DN_origin(file_name, len(tsp_instances[0]))"
   ]
  },
  {
   "cell_type": "code",
   "execution_count": 7,
   "metadata": {},
   "outputs": [
    {
     "name": "stdout",
     "output_type": "stream",
     "text": [
      "26\n"
     ]
    },
    {
     "data": {
      "text/html": [
       "<div>\n",
       "<style scoped>\n",
       "    .dataframe tbody tr th:only-of-type {\n",
       "        vertical-align: middle;\n",
       "    }\n",
       "\n",
       "    .dataframe tbody tr th {\n",
       "        vertical-align: top;\n",
       "    }\n",
       "\n",
       "    .dataframe thead th {\n",
       "        text-align: right;\n",
       "    }\n",
       "</style>\n",
       "<table border=\"1\" class=\"dataframe\">\n",
       "  <thead>\n",
       "    <tr style=\"text-align: right;\">\n",
       "      <th></th>\n",
       "      <th>x</th>\n",
       "      <th>y</th>\n",
       "    </tr>\n",
       "  </thead>\n",
       "  <tbody>\n",
       "    <tr>\n",
       "      <th>0</th>\n",
       "      <td>0.357724</td>\n",
       "      <td>1.000000</td>\n",
       "    </tr>\n",
       "    <tr>\n",
       "      <th>1</th>\n",
       "      <td>0.093095</td>\n",
       "      <td>0.792767</td>\n",
       "    </tr>\n",
       "    <tr>\n",
       "      <th>2</th>\n",
       "      <td>0.157216</td>\n",
       "      <td>0.597834</td>\n",
       "    </tr>\n",
       "    <tr>\n",
       "      <th>3</th>\n",
       "      <td>0.014523</td>\n",
       "      <td>0.530926</td>\n",
       "    </tr>\n",
       "    <tr>\n",
       "      <th>4</th>\n",
       "      <td>0.030298</td>\n",
       "      <td>0.474642</td>\n",
       "    </tr>\n",
       "    <tr>\n",
       "      <th>5</th>\n",
       "      <td>0.000000</td>\n",
       "      <td>0.476828</td>\n",
       "    </tr>\n",
       "    <tr>\n",
       "      <th>6</th>\n",
       "      <td>0.076393</td>\n",
       "      <td>0.300627</td>\n",
       "    </tr>\n",
       "    <tr>\n",
       "      <th>7</th>\n",
       "      <td>0.107829</td>\n",
       "      <td>0.166909</td>\n",
       "    </tr>\n",
       "    <tr>\n",
       "      <th>8</th>\n",
       "      <td>0.198160</td>\n",
       "      <td>0.312979</td>\n",
       "    </tr>\n",
       "    <tr>\n",
       "      <th>9</th>\n",
       "      <td>0.249213</td>\n",
       "      <td>0.404370</td>\n",
       "    </tr>\n",
       "    <tr>\n",
       "      <th>10</th>\n",
       "      <td>0.321448</td>\n",
       "      <td>0.410690</td>\n",
       "    </tr>\n",
       "    <tr>\n",
       "      <th>11</th>\n",
       "      <td>0.371082</td>\n",
       "      <td>0.470521</td>\n",
       "    </tr>\n",
       "    <tr>\n",
       "      <th>12</th>\n",
       "      <td>0.330794</td>\n",
       "      <td>0.468273</td>\n",
       "    </tr>\n",
       "    <tr>\n",
       "      <th>13</th>\n",
       "      <td>0.252736</td>\n",
       "      <td>0.512666</td>\n",
       "    </tr>\n",
       "    <tr>\n",
       "      <th>14</th>\n",
       "      <td>0.286191</td>\n",
       "      <td>0.577916</td>\n",
       "    </tr>\n",
       "    <tr>\n",
       "      <th>15</th>\n",
       "      <td>0.301392</td>\n",
       "      <td>0.185696</td>\n",
       "    </tr>\n",
       "    <tr>\n",
       "      <th>16</th>\n",
       "      <td>0.458125</td>\n",
       "      <td>0.154792</td>\n",
       "    </tr>\n",
       "    <tr>\n",
       "      <th>17</th>\n",
       "      <td>0.466081</td>\n",
       "      <td>0.035134</td>\n",
       "    </tr>\n",
       "    <tr>\n",
       "      <th>18</th>\n",
       "      <td>0.351258</td>\n",
       "      <td>0.068494</td>\n",
       "    </tr>\n",
       "    <tr>\n",
       "      <th>19</th>\n",
       "      <td>0.365205</td>\n",
       "      <td>0.000000</td>\n",
       "    </tr>\n",
       "    <tr>\n",
       "      <th>20</th>\n",
       "      <td>0.541429</td>\n",
       "      <td>0.255556</td>\n",
       "    </tr>\n",
       "    <tr>\n",
       "      <th>21</th>\n",
       "      <td>0.635703</td>\n",
       "      <td>0.264777</td>\n",
       "    </tr>\n",
       "    <tr>\n",
       "      <th>22</th>\n",
       "      <td>0.816428</td>\n",
       "      <td>0.278291</td>\n",
       "    </tr>\n",
       "    <tr>\n",
       "      <th>23</th>\n",
       "      <td>1.000000</td>\n",
       "      <td>0.294909</td>\n",
       "    </tr>\n",
       "    <tr>\n",
       "      <th>24</th>\n",
       "      <td>0.722448</td>\n",
       "      <td>0.589610</td>\n",
       "    </tr>\n",
       "    <tr>\n",
       "      <th>25</th>\n",
       "      <td>0.638830</td>\n",
       "      <td>0.118791</td>\n",
       "    </tr>\n",
       "  </tbody>\n",
       "</table>\n",
       "</div>"
      ],
      "text/plain": [
       "           x         y\n",
       "0   0.357724  1.000000\n",
       "1   0.093095  0.792767\n",
       "2   0.157216  0.597834\n",
       "3   0.014523  0.530926\n",
       "4   0.030298  0.474642\n",
       "5   0.000000  0.476828\n",
       "6   0.076393  0.300627\n",
       "7   0.107829  0.166909\n",
       "8   0.198160  0.312979\n",
       "9   0.249213  0.404370\n",
       "10  0.321448  0.410690\n",
       "11  0.371082  0.470521\n",
       "12  0.330794  0.468273\n",
       "13  0.252736  0.512666\n",
       "14  0.286191  0.577916\n",
       "15  0.301392  0.185696\n",
       "16  0.458125  0.154792\n",
       "17  0.466081  0.035134\n",
       "18  0.351258  0.068494\n",
       "19  0.365205  0.000000\n",
       "20  0.541429  0.255556\n",
       "21  0.635703  0.264777\n",
       "22  0.816428  0.278291\n",
       "23  1.000000  0.294909\n",
       "24  0.722448  0.589610\n",
       "25  0.638830  0.118791"
      ]
     },
     "execution_count": 7,
     "metadata": {},
     "output_type": "execute_result"
    }
   ],
   "source": [
    "mds=MDS(n_components=2, dissimilarity='precomputed', normalized_stress='auto', random_state=42)\n",
    "coordinates=mds.fit_transform(original_dist)\n",
    "coordinates-=coordinates.min(axis=0)\n",
    "coordinates/=coordinates.max(axis=0)\n",
    "df=pd.DataFrame(coordinates, columns=['x', 'y'])\n",
    "print(len(df))\n",
    "df"
   ]
  },
  {
   "cell_type": "markdown",
   "metadata": {},
   "source": [
    "Draw problem state"
   ]
  },
  {
   "cell_type": "code",
   "execution_count": 8,
   "metadata": {},
   "outputs": [
    {
     "data": {
      "image/png": "[encoded data removed]",
      "text/plain": [
       "<Figure size 500x500 with 1 Axes>"
      ]
     },
     "metadata": {},
     "output_type": "display_data"
    }
   ],
   "source": [
    "plt.figure(figsize=(5, 5))\n",
    "\n",
    "city_index=\"ABCDEFGHIJKLMNOPQRSTUVWXYZ\"\n",
    "for i in range(len(df)):\n",
    "    plt.scatter(df.iloc[i]['x'], df.iloc[i]['y'], c='red', s=8)\n",
    "    if n_point<=26:\n",
    "        plt.text(df.iloc[i]['x']+0.01, df.iloc[i]['y']+0.01, f'{city_index[i]}', fontsize=8)\n",
    "    else:\n",
    "        plt.text(df.iloc[i]['x']+0.01, df.iloc[i]['y']+0.01, f'{i}')\n",
    "\n",
    "plt.title(file_name)\n",
    "plt.show()"
   ]
  },
  {
   "cell_type": "code",
   "execution_count": 9,
   "metadata": {},
   "outputs": [],
   "source": [
    "class QuboPoly():\n",
    "    def __init__(self, n=1024):\n",
    "        self.array=np.zeros((n, n), dtype=int)\n",
    "        self.constant=0\n",
    "        self._size=n\n",
    "    \n",
    "    def add_term(self, i, j, c):\n",
    "        if i>=self._size or j>=self._size:\n",
    "            raise RuntimeError(\"Wrong index\")\n",
    "        self.array[i][j]+=c\n",
    "        \n",
    "    def add_constant(self, c):\n",
    "        self.constant+=c\n",
    "        \n",
    "    def sum(self, p):\n",
    "        if self._size != p._size:\n",
    "            raise RuntimeError(\"Wrong polynomial size\")\n",
    "        self.array+=p.array\n",
    "        self.constant+=p.constant\n",
    "        \n",
    "    def power(self):\n",
    "        a=np.diag(self.array)\n",
    "        self.array=np.outer(a, a) + 2*self.constant*np.diag(a) # convert back to NxN\n",
    "        self.constant**=2\n",
    "        \n",
    "    def multiply(self, p):\n",
    "        a=np.diag(self.array)\n",
    "        b=np.diag(p.array)\n",
    "        self.array=np.outer(a, b) + self.constant*np.diag(b) + p.constant*np.diag(a)\n",
    "        self.constant*=p.constant"
   ]
  },
  {
   "cell_type": "markdown",
   "metadata": {},
   "source": [
    "##### $ Obj=\\sum_{t=0}^{time-1}\\sum_{i=0}^{city}\\sum_{j=0}^{city}x_{i,t}\\cdot x_{j,t+1}\\cdot d_{i,j} + \\sum_{i=0}^{city}\\sum_{j=0}^{city}x_{i,t_{end}}\\cdot x_{j,0}\\cdot d_{i,j} $ (last terms for calculating Hamiltonian cycle)"
   ]
  },
  {
   "cell_type": "code",
   "execution_count": 10,
   "metadata": {},
   "outputs": [],
   "source": [
    "def objective_function():\n",
    "    qubo=QuboPoly(n_point*time_step)\n",
    "    # Ex. 3 cities iterate 0 1 2-> (0,1) (0,2) (2,0)\n",
    "    for t in range(time_step):\n",
    "        for i in range(n_point):\n",
    "            for j in range(n_point):\n",
    "                #print(city_index[i], city_index[j], t)\n",
    "                if t==time_step-1: \n",
    "                    qubo.add_term((i*time_step)+t, (j*time_step), tsp_instances[i][j])  # last terms that the final destination reaches the original node\n",
    "                else:\n",
    "                    qubo.add_term((i*time_step)+t, (j*time_step)+t+1, tsp_instances[i][j])\n",
    "    #print(qubo.array)\n",
    "    return qubo"
   ]
  },
  {
   "cell_type": "markdown",
   "metadata": {},
   "source": [
    "##### $ C_{1}=\\sum_{t=0}^{time}(\\sum_{i=0}^{city} x_{i, t}-1)^2 $ (one-hot constraint for column)"
   ]
  },
  {
   "cell_type": "code",
   "execution_count": 11,
   "metadata": {},
   "outputs": [],
   "source": [
    "def build_one_car_each_t(alpha):\n",
    "    qubo=QuboPoly(n_point*time_step)\n",
    "    for t in range(time_step):\n",
    "        tmp=QuboPoly(n_point*time_step)\n",
    "        for i in range(n_point):\n",
    "            #print((i*time_step)+t, t)\n",
    "            tmp.add_term((i*time_step)+t, (i*time_step)+t, alpha)\n",
    "        tmp.add_constant(-alpha)\n",
    "        tmp.power()\n",
    "        qubo.sum(tmp)\n",
    "        #print(tmp.array)\n",
    "    #print(qubo.array)\n",
    "    return qubo"
   ]
  },
  {
   "cell_type": "markdown",
   "metadata": {},
   "source": [
    "##### $ C_{2}=\\sum_{i=0}^{city}(\\sum_{t=0}^{time} x_{i, t}-1)^2 $ (one-hot constraint for row)"
   ]
  },
  {
   "cell_type": "code",
   "execution_count": 12,
   "metadata": {},
   "outputs": [],
   "source": [
    "def build_car_visit_once(alpha):\n",
    "    qubo=QuboPoly(n_point*time_step)\n",
    "    for i in range(n_point):\n",
    "        tmp=QuboPoly(n_point*time_step)\n",
    "        for t in range(time_step):\n",
    "            #print((i*time_step)+t, t)\n",
    "            tmp.add_term((i*time_step)+t, (i*time_step)+t, alpha)\n",
    "        tmp.add_constant(-alpha)\n",
    "        tmp.power()\n",
    "        qubo.sum(tmp)\n",
    "        #print(tmp.array)\n",
    "    #print(qubo.array)\n",
    "    return qubo"
   ]
  },
  {
   "cell_type": "markdown",
   "metadata": {},
   "source": [
    "#### Building $Q$ matrix"
   ]
  },
  {
   "cell_type": "code",
   "execution_count": 13,
   "metadata": {},
   "outputs": [
    {
     "name": "stdout",
     "output_type": "stream",
     "text": [
      "Gen. Q time 0.19567041700003074 seconds\n",
      "constant = 130000\n",
      "Matrix size: 676 x 676\n"
     ]
    }
   ],
   "source": [
    "from time import monotonic\n",
    "start_time=monotonic()  # timer\n",
    "\n",
    "Q=QuboPoly(n_point*time_step)\n",
    "Obj=objective_function()\n",
    "C1=build_one_car_each_t(50) # column-alpha\n",
    "C2=build_car_visit_once(50) # row-alpha\n",
    "Q.sum(Obj)\n",
    "Q.sum(C1)\n",
    "Q.sum(C2)\n",
    "\n",
    "print(f\"Gen. Q time {monotonic() - start_time} seconds\")\n",
    "print(\"constant =\", Q.constant)\n",
    "#print(Q.array)\n",
    "print(f\"Matrix size: {Q._size} x {Q._size}\")"
   ]
  },
  {
   "cell_type": "code",
   "execution_count": 14,
   "metadata": {},
   "outputs": [
    {
     "name": "stdout",
     "output_type": "stream",
     "text": [
      "# of terms = 51376\n",
      "# of total = 456976\n",
      "Terms = 0.11242603550295859%\n"
     ]
    }
   ],
   "source": [
    "from collections import defaultdict\n",
    "Q_dwave=defaultdict(int)\n",
    "\n",
    "for i in range(Q._size):\n",
    "    for j in range(Q._size):\n",
    "        if Q.array[i, j]!=0:\n",
    "            Q_dwave[(i, j)]=Q.array[i, j]\n",
    "\n",
    "print(\"# of terms =\", len(Q_dwave))\n",
    "print(\"# of total =\", Q._size**2)\n",
    "print(f'Terms = {len(Q_dwave)/(Q._size**2)}%')"
   ]
  },
  {
   "cell_type": "markdown",
   "metadata": {},
   "source": [
    "### Solve $x^TQx$ via D'Wave QM"
   ]
  },
  {
   "cell_type": "code",
   "execution_count": 15,
   "metadata": {},
   "outputs": [],
   "source": [
    "from dwave.system import DWaveSampler, EmbeddingComposite, LeapHybridSampler\n",
    "from dimod import BinaryQuadraticModel\n",
    "import time\n",
    "bqm=BinaryQuadraticModel('BINARY')\n",
    "bqm=BinaryQuadraticModel.from_qubo(Q_dwave)"
   ]
  },
  {
   "cell_type": "markdown",
   "metadata": {},
   "source": [
    "cqm = ConstrainedQuadraticModel().from_bqm(bqm)"
   ]
  },
  {
   "cell_type": "code",
   "execution_count": 16,
   "metadata": {},
   "outputs": [
    {
     "name": "stdout",
     "output_type": "stream",
     "text": [
      "D-wave time 9.167871958000035 seconds\n",
      "The time of execution of above program is : 9167.356967926025 ms\n"
     ]
    }
   ],
   "source": [
    "start_time=monotonic()\n",
    "start = time.time()\n",
    "\n",
    "bqm_sampler=LeapHybridSampler()\n",
    "#sampleset=bqm_sampler.sample(bqm, label='10-TSP-QUBO1', time_limit=10)\n",
    "#sampleset=bqm_sampler.sample(bqm, label='ATT48_GA-02.txt', time_limit=10)\n",
    "sampleset=bqm_sampler.sample(bqm, label='FRI26_DN-th0250.txt', time_limit=5)\n",
    "\n",
    "end = time.time()\n",
    "print(f\"D-wave time {monotonic() - start_time} seconds\")\n",
    "print(\"The time of execution of above program is :\", (end-start) * 10**3, \"ms\")"
   ]
  },
  {
   "cell_type": "code",
   "execution_count": 17,
   "metadata": {},
   "outputs": [
    {
     "name": "stdout",
     "output_type": "stream",
     "text": [
      "{'qpu_access_time': 85483, 'charge_time': 4991336, 'run_time': 4991336, 'problem_id': '7ae6ba01-7cc1-4317-b3de-e56f239c4b63', 'problem_label': 'FRI26_DN-th0250.txt'}\n"
     ]
    }
   ],
   "source": [
    "print(sampleset.info)"
   ]
  },
  {
   "cell_type": "code",
   "execution_count": 18,
   "metadata": {},
   "outputs": [
    {
     "name": "stdout",
     "output_type": "stream",
     "text": [
      "Best Sample: {0: 0, 1: 0, 2: 0, 3: 0, 4: 0, 5: 0, 6: 0, 7: 0, 8: 0, 9: 0, 10: 0, 11: 0, 12: 0, 13: 1, 14: 0, 15: 0, 16: 0, 17: 0, 18: 0, 19: 0, 20: 0, 21: 0, 22: 0, 23: 0, 24: 0, 25: 0, 26: 0, 27: 0, 28: 0, 29: 0, 30: 0, 31: 0, 32: 0, 33: 0, 34: 0, 35: 0, 36: 0, 37: 0, 38: 0, 39: 0, 40: 1, 41: 0, 42: 0, 43: 0, 44: 0, 45: 0, 46: 0, 47: 0, 48: 0, 49: 0, 50: 0, 51: 0, 52: 0, 53: 0, 54: 0, 55: 0, 56: 0, 57: 0, 58: 0, 59: 0, 60: 0, 61: 0, 62: 0, 63: 0, 64: 0, 65: 0, 66: 0, 67: 1, 68: 0, 69: 0, 70: 0, 71: 0, 72: 0, 73: 0, 74: 0, 75: 0, 76: 0, 77: 0, 78: 0, 79: 0, 80: 0, 81: 0, 82: 0, 83: 0, 84: 0, 85: 0, 86: 0, 87: 0, 88: 0, 89: 0, 90: 0, 91: 0, 92: 0, 93: 0, 94: 0, 95: 0, 96: 0, 97: 0, 98: 0, 99: 0, 100: 0, 101: 1, 102: 0, 103: 0, 104: 0, 105: 0, 106: 0, 107: 0, 108: 0, 109: 0, 110: 0, 111: 0, 112: 0, 113: 0, 114: 0, 115: 0, 116: 0, 117: 0, 118: 0, 119: 0, 120: 0, 121: 0, 122: 0, 123: 0, 124: 0, 125: 0, 126: 0, 127: 0, 128: 0, 129: 1, 130: 0, 131: 0, 132: 0, 133: 0, 134: 0, 135: 0, 136: 0, 137: 0, 138: 0, 139: 0, 140: 0, 141: 0, 142: 0, 143: 0, 144: 0, 145: 0, 146: 0, 147: 0, 148: 0, 149: 0, 150: 0, 151: 0, 152: 1, 153: 0, 154: 0, 155: 0, 156: 0, 157: 0, 158: 0, 159: 0, 160: 0, 161: 0, 162: 0, 163: 0, 164: 0, 165: 0, 166: 0, 167: 0, 168: 0, 169: 0, 170: 0, 171: 0, 172: 0, 173: 0, 174: 0, 175: 0, 176: 0, 177: 0, 178: 0, 179: 0, 180: 1, 181: 0, 182: 1, 183: 0, 184: 0, 185: 0, 186: 0, 187: 0, 188: 0, 189: 0, 190: 0, 191: 0, 192: 0, 193: 0, 194: 0, 195: 0, 196: 0, 197: 0, 198: 0, 199: 0, 200: 0, 201: 0, 202: 0, 203: 0, 204: 0, 205: 0, 206: 0, 207: 0, 208: 0, 209: 1, 210: 0, 211: 0, 212: 0, 213: 0, 214: 0, 215: 0, 216: 0, 217: 0, 218: 0, 219: 0, 220: 0, 221: 0, 222: 0, 223: 0, 224: 0, 225: 0, 226: 0, 227: 0, 228: 0, 229: 0, 230: 0, 231: 0, 232: 0, 233: 0, 234: 0, 235: 0, 236: 0, 237: 0, 238: 0, 239: 0, 240: 0, 241: 0, 242: 0, 243: 0, 244: 0, 245: 0, 246: 0, 247: 0, 248: 0, 249: 0, 250: 0, 251: 0, 252: 0, 253: 0, 254: 0, 255: 1, 256: 0, 257: 0, 258: 0, 259: 0, 260: 0, 261: 0, 262: 0, 263: 0, 264: 0, 265: 0, 266: 0, 267: 0, 268: 0, 269: 0, 270: 0, 271: 0, 272: 0, 273: 0, 274: 0, 275: 0, 276: 0, 277: 1, 278: 0, 279: 0, 280: 0, 281: 0, 282: 0, 283: 0, 284: 0, 285: 0, 286: 0, 287: 0, 288: 0, 289: 0, 290: 0, 291: 0, 292: 0, 293: 0, 294: 0, 295: 0, 296: 0, 297: 0, 298: 0, 299: 0, 300: 0, 301: 0, 302: 0, 303: 0, 304: 0, 305: 0, 306: 1, 307: 0, 308: 0, 309: 0, 310: 0, 311: 0, 312: 0, 313: 0, 314: 0, 315: 0, 316: 0, 317: 0, 318: 0, 319: 0, 320: 0, 321: 0, 322: 0, 323: 0, 324: 0, 325: 0, 326: 0, 327: 0, 328: 0, 329: 0, 330: 1, 331: 0, 332: 0, 333: 0, 334: 0, 335: 0, 336: 0, 337: 0, 338: 0, 339: 0, 340: 0, 341: 0, 342: 0, 343: 0, 344: 0, 345: 0, 346: 0, 347: 0, 348: 0, 349: 0, 350: 0, 351: 0, 352: 0, 353: 0, 354: 1, 355: 0, 356: 0, 357: 0, 358: 0, 359: 0, 360: 0, 361: 0, 362: 0, 363: 0, 364: 0, 365: 0, 366: 0, 367: 0, 368: 0, 369: 0, 370: 0, 371: 0, 372: 0, 373: 0, 374: 0, 375: 0, 376: 0, 377: 0, 378: 0, 379: 0, 380: 0, 381: 0, 382: 0, 383: 1, 384: 0, 385: 0, 386: 0, 387: 0, 388: 0, 389: 0, 390: 0, 391: 0, 392: 1, 393: 0, 394: 0, 395: 0, 396: 0, 397: 0, 398: 0, 399: 0, 400: 0, 401: 0, 402: 0, 403: 0, 404: 0, 405: 0, 406: 0, 407: 0, 408: 0, 409: 0, 410: 0, 411: 0, 412: 0, 413: 0, 414: 0, 415: 0, 416: 0, 417: 0, 418: 0, 419: 0, 420: 0, 421: 0, 422: 1, 423: 0, 424: 0, 425: 0, 426: 0, 427: 0, 428: 0, 429: 0, 430: 0, 431: 0, 432: 0, 433: 0, 434: 0, 435: 0, 436: 0, 437: 0, 438: 0, 439: 0, 440: 0, 441: 0, 442: 0, 443: 0, 444: 0, 445: 0, 446: 0, 447: 1, 448: 0, 449: 0, 450: 0, 451: 0, 452: 0, 453: 0, 454: 0, 455: 0, 456: 0, 457: 0, 458: 0, 459: 0, 460: 0, 461: 0, 462: 0, 463: 0, 464: 0, 465: 0, 466: 0, 467: 0, 468: 0, 469: 0, 470: 0, 471: 1, 472: 0, 473: 0, 474: 0, 475: 0, 476: 0, 477: 0, 478: 0, 479: 0, 480: 0, 481: 0, 482: 0, 483: 0, 484: 0, 485: 0, 486: 0, 487: 0, 488: 0, 489: 0, 490: 0, 491: 0, 492: 0, 493: 0, 494: 0, 495: 0, 496: 0, 497: 0, 498: 1, 499: 0, 500: 0, 501: 0, 502: 0, 503: 0, 504: 0, 505: 0, 506: 0, 507: 0, 508: 0, 509: 0, 510: 0, 511: 0, 512: 0, 513: 0, 514: 0, 515: 0, 516: 0, 517: 0, 518: 0, 519: 0, 520: 0, 521: 0, 522: 0, 523: 0, 524: 0, 525: 0, 526: 0, 527: 1, 528: 0, 529: 0, 530: 0, 531: 0, 532: 0, 533: 0, 534: 0, 535: 0, 536: 0, 537: 0, 538: 0, 539: 0, 540: 0, 541: 0, 542: 0, 543: 0, 544: 0, 545: 0, 546: 0, 547: 0, 548: 0, 549: 0, 550: 0, 551: 0, 552: 0, 553: 0, 554: 0, 555: 1, 556: 0, 557: 0, 558: 0, 559: 0, 560: 0, 561: 0, 562: 0, 563: 0, 564: 0, 565: 0, 566: 0, 567: 0, 568: 0, 569: 0, 570: 0, 571: 0, 572: 0, 573: 0, 574: 0, 575: 0, 576: 0, 577: 0, 578: 0, 579: 0, 580: 0, 581: 0, 582: 1, 583: 0, 584: 0, 585: 0, 586: 0, 587: 0, 588: 0, 589: 0, 590: 0, 591: 0, 592: 0, 593: 0, 594: 0, 595: 0, 596: 0, 597: 0, 598: 0, 599: 0, 600: 0, 601: 0, 602: 0, 603: 0, 604: 0, 605: 0, 606: 0, 607: 0, 608: 0, 609: 1, 610: 0, 611: 0, 612: 0, 613: 0, 614: 0, 615: 0, 616: 0, 617: 0, 618: 0, 619: 0, 620: 0, 621: 0, 622: 0, 623: 0, 624: 0, 625: 0, 626: 0, 627: 0, 628: 0, 629: 0, 630: 0, 631: 0, 632: 0, 633: 0, 634: 0, 635: 0, 636: 1, 637: 0, 638: 0, 639: 0, 640: 0, 641: 0, 642: 0, 643: 0, 644: 0, 645: 0, 646: 0, 647: 0, 648: 0, 649: 0, 650: 0, 651: 0, 652: 0, 653: 0, 654: 0, 655: 0, 656: 0, 657: 0, 658: 1, 659: 0, 660: 0, 661: 0, 662: 0, 663: 0, 664: 0, 665: 0, 666: 0, 667: 0, 668: 0, 669: 0, 670: 0, 671: 0, 672: 0, 673: 0, 674: 0, 675: 0}\n",
      "Best Energy: -128914.0\n"
     ]
    }
   ],
   "source": [
    "best_sample=sampleset.first.sample\n",
    "best_energy=sampleset.first.energy\n",
    "\n",
    "print(\"Best Sample:\", best_sample)\n",
    "print(\"Best Energy:\", best_energy)\n",
    "\n",
    "# map it back to answer\n",
    "solution=np.zeros(n_point*time_step, dtype=int)\n",
    "for index, var in enumerate(best_sample):\n",
    "    solution[index]=int(best_sample[var])"
   ]
  },
  {
   "cell_type": "code",
   "execution_count": 19,
   "metadata": {},
   "outputs": [
    {
     "name": "stdout",
     "output_type": "stream",
     "text": [
      "[[0 0 0 0 0 0 0 0 0 0 0 0 0 1 0 0 0 0 0 0 0 0 0 0 0 0]\n",
      " [0 0 0 0 0 0 0 0 0 0 0 0 0 0 1 0 0 0 0 0 0 0 0 0 0 0]\n",
      " [0 0 0 0 0 0 0 0 0 0 0 0 0 0 0 1 0 0 0 0 0 0 0 0 0 0]\n",
      " [0 0 0 0 0 0 0 0 0 0 0 0 0 0 0 0 0 0 0 0 0 0 0 1 0 0]\n",
      " [0 0 0 0 0 0 0 0 0 0 0 0 0 0 0 0 0 0 0 0 0 0 0 0 0 1]\n",
      " [0 0 0 0 0 0 0 0 0 0 0 0 0 0 0 0 0 0 0 0 0 0 1 0 0 0]\n",
      " [0 0 0 0 0 0 0 0 0 0 0 0 0 0 0 0 0 0 0 0 0 0 0 0 1 0]\n",
      " [1 0 0 0 0 0 0 0 0 0 0 0 0 0 0 0 0 0 0 0 0 0 0 0 0 0]\n",
      " [0 1 0 0 0 0 0 0 0 0 0 0 0 0 0 0 0 0 0 0 0 0 0 0 0 0]\n",
      " [0 0 0 0 0 0 0 0 0 0 0 0 0 0 0 0 0 0 0 0 0 1 0 0 0 0]\n",
      " [0 0 0 0 0 0 0 0 0 0 0 0 0 0 0 0 0 1 0 0 0 0 0 0 0 0]\n",
      " [0 0 0 0 0 0 0 0 0 0 0 0 0 0 0 0 0 0 0 0 1 0 0 0 0 0]\n",
      " [0 0 0 0 0 0 0 0 0 0 0 0 0 0 0 0 0 0 1 0 0 0 0 0 0 0]\n",
      " [0 0 0 0 0 0 0 0 0 0 0 0 0 0 0 0 1 0 0 0 0 0 0 0 0 0]\n",
      " [0 0 0 0 0 0 0 0 0 0 0 0 0 0 0 0 0 0 0 1 0 0 0 0 0 0]\n",
      " [0 0 1 0 0 0 0 0 0 0 0 0 0 0 0 0 0 0 0 0 0 0 0 0 0 0]\n",
      " [0 0 0 0 0 0 1 0 0 0 0 0 0 0 0 0 0 0 0 0 0 0 0 0 0 0]\n",
      " [0 0 0 0 0 1 0 0 0 0 0 0 0 0 0 0 0 0 0 0 0 0 0 0 0 0]\n",
      " [0 0 0 1 0 0 0 0 0 0 0 0 0 0 0 0 0 0 0 0 0 0 0 0 0 0]\n",
      " [0 0 0 0 1 0 0 0 0 0 0 0 0 0 0 0 0 0 0 0 0 0 0 0 0 0]\n",
      " [0 0 0 0 0 0 0 1 0 0 0 0 0 0 0 0 0 0 0 0 0 0 0 0 0 0]\n",
      " [0 0 0 0 0 0 0 0 0 1 0 0 0 0 0 0 0 0 0 0 0 0 0 0 0 0]\n",
      " [0 0 0 0 0 0 0 0 0 0 1 0 0 0 0 0 0 0 0 0 0 0 0 0 0 0]\n",
      " [0 0 0 0 0 0 0 0 0 0 0 1 0 0 0 0 0 0 0 0 0 0 0 0 0 0]\n",
      " [0 0 0 0 0 0 0 0 0 0 0 0 1 0 0 0 0 0 0 0 0 0 0 0 0 0]\n",
      " [0 0 0 0 0 0 0 0 1 0 0 0 0 0 0 0 0 0 0 0 0 0 0 0 0 0]]\n"
     ]
    }
   ],
   "source": [
    "#import sys\n",
    "#np.set_printoptions(threshold=sys.maxsize)\n",
    "#print(solution.reshape(n_point, time_step))\n",
    "solution=solution.reshape(n_point, time_step)\n",
    "print(solution)"
   ]
  },
  {
   "cell_type": "code",
   "execution_count": 20,
   "metadata": {},
   "outputs": [],
   "source": [
    "def check_c1():\n",
    "    for t in range(time_step):\n",
    "        cnt=0\n",
    "        for i in range(n_point):\n",
    "            cnt+=solution[i][t]\n",
    "        if cnt!=1:\n",
    "            return False\n",
    "    return True\n",
    "\n",
    "def check_c2():\n",
    "    for i in range(n_point):\n",
    "        cnt=0\n",
    "        for t in range(time_step):\n",
    "            cnt+=solution[i][t]\n",
    "        if cnt!=1:\n",
    "            return False\n",
    "    return True"
   ]
  },
  {
   "cell_type": "code",
   "execution_count": 21,
   "metadata": {},
   "outputs": [
    {
     "name": "stdout",
     "output_type": "stream",
     "text": [
      "x13 = 1 (city: 0, time: 13)\n",
      "x40 = 1 (city: 1, time: 14)\n",
      "x67 = 1 (city: 2, time: 15)\n",
      "x101 = 1 (city: 3, time: 23)\n",
      "x129 = 1 (city: 4, time: 25)\n",
      "x152 = 1 (city: 5, time: 22)\n",
      "x180 = 1 (city: 6, time: 24)\n",
      "x182 = 1 (city: 7, time: 0)\n",
      "x209 = 1 (city: 8, time: 1)\n",
      "x255 = 1 (city: 9, time: 21)\n",
      "x277 = 1 (city: 10, time: 17)\n",
      "x306 = 1 (city: 11, time: 20)\n",
      "x330 = 1 (city: 12, time: 18)\n",
      "x354 = 1 (city: 13, time: 16)\n",
      "x383 = 1 (city: 14, time: 19)\n",
      "x392 = 1 (city: 15, time: 2)\n",
      "x422 = 1 (city: 16, time: 6)\n",
      "x447 = 1 (city: 17, time: 5)\n",
      "x471 = 1 (city: 18, time: 3)\n",
      "x498 = 1 (city: 19, time: 4)\n",
      "x527 = 1 (city: 20, time: 7)\n",
      "x555 = 1 (city: 21, time: 9)\n",
      "x582 = 1 (city: 22, time: 10)\n",
      "x609 = 1 (city: 23, time: 11)\n",
      "x636 = 1 (city: 24, time: 12)\n",
      "x658 = 1 (city: 25, time: 8)\n",
      "[7, 8, 15, 18, 19, 17, 16, 20, 25, 21, 22, 23, 24, 0, 1, 2, 13, 10, 12, 14, 11, 9, 5, 3, 6, 4, 7]\n",
      "Number of visited: 27\n",
      "Number of unique: 26\n",
      "C1: True\n",
      "C2: True\n"
     ]
    }
   ],
   "source": [
    "routes=[0]*time_step\n",
    "for index, (key, val) in enumerate(best_sample.items()):\n",
    "    #print(index, key, val)\n",
    "    if val > 0.5:\n",
    "        print(f'x{index} = {val} (city: {int(index/time_step)}, time: {index%time_step})')\n",
    "        routes[index%time_step]=int(index/time_step)\n",
    "\n",
    "# append for drawing graph with Hamiltonian cycle by hand\n",
    "routes.append(routes[0])\n",
    "print(routes)\n",
    "print(\"Number of visited:\", len(routes))\n",
    "print(\"Number of unique:\", len(set(routes)))\n",
    "print(\"C1:\", check_c1())\n",
    "print(\"C2:\", check_c2())"
   ]
  },
  {
   "cell_type": "markdown",
   "metadata": {},
   "source": [
    "#### Visualization"
   ]
  },
  {
   "cell_type": "code",
   "execution_count": 22,
   "metadata": {},
   "outputs": [
    {
     "data": {
      "image/png": "[encoded data removed]",
      "text/plain": [
       "<Figure size 700x700 with 1 Axes>"
      ]
     },
     "metadata": {},
     "output_type": "display_data"
    }
   ],
   "source": [
    "plt.figure(figsize=(7, 7))\n",
    "\n",
    "for i in range(len(tsp_instances[0])):\n",
    "    plt.scatter(df.iloc[i]['x'], df.iloc[i]['y'], c='red')\n",
    "    #plt.text(df.iloc[i]['x']+0.88, df.iloc[i]['y']+0.88, f'{i}')\n",
    "\n",
    "for i in range(len(routes)-1):\n",
    "    #plt.arrow(df.iloc[routes[i]]['x'], df.iloc[routes[i]]['y'], df.iloc[routes[i+1]]['x'] - df.iloc[routes[i]]['x'], df.iloc[routes[i+1]]['y'] - df.iloc[routes[i]]['y'], head_width=2, head_length=3, fc='blue', ec='blue')\n",
    "    x1, y1=df.iloc[routes[i]]['x'], df.iloc[routes[i]]['y']\n",
    "    x2, y2=df.iloc[routes[i+1]]['x'], df.iloc[routes[i+1]]['y']\n",
    "    plt.plot([x1, x2], [y1, y2], c='blue')\n",
    "\n",
    "    mid_x=(x1+x2)/2\n",
    "    mid_y=(y1+y2)/2\n",
    "    dx=(x2-x1)*0.05  # Offset along x-direction\n",
    "    dy=(y2-y1)*0.05  # Offset along y-direction\n",
    "    \n",
    "    #plt.annotate('', xy=(mid_x + dx, mid_y + dy), xytext=(mid_x, mid_y), arrowprops=dict(arrowstyle='->', color='blue'))\n",
    "    plt.annotate('', xy=(mid_x + dx, mid_y + dy), xytext=(mid_x, mid_y),\n",
    "                 arrowprops=dict(arrowstyle='simple, tail_width=0.5, head_width=0.69, head_length=0.69', color='blue'))\n",
    "        \n",
    "plt.show()"
   ]
  },
  {
   "cell_type": "code",
   "execution_count": 28,
   "metadata": {},
   "outputs": [
    {
     "name": "stdout",
     "output_type": "stream",
     "text": [
      "Total cost: 1086.0\n"
     ]
    }
   ],
   "source": [
    "cost = 0\n",
    "for i in range(len(routes)-1):\n",
    "    cost += original_dist[routes[i]][routes[i+1]]\n",
    "print(\"Total cost:\", cost)"
   ]
  },
  {
   "cell_type": "markdown",
   "metadata": {},
   "source": [
    "Optimum solution for ATT48"
   ]
  },
  {
   "cell_type": "code",
   "execution_count": 25,
   "metadata": {},
   "outputs": [
    {
     "data": {
      "text/plain": [
       "'\\nopt_seq=[0, 7, 37, 30, 43, 17, 6, 27, 5, 36, 18, 26, 16, 42, 29, 35, 45, 32, 19, 46, 20, 31, 38, 47, 4, 41, 23, 9, 44, 34, 3, 25, 1, 28, 33, 40, 15, 21, 2, 22, 13, 24, 12, 10, 11, 14, 39, 8, 0]\\natt48_cost=0\\nfor i in range(len(opt_seq)-1):\\n    att48_cost += oridinal_dist [opt_seq[i]][opt_seq[i+1]]\\nprint(\"OPTIMUM COST:\", att48_cost)\\n#routes=opt_seq\\n'"
      ]
     },
     "execution_count": 25,
     "metadata": {},
     "output_type": "execute_result"
    }
   ],
   "source": [
    "'''\n",
    "opt_seq=[0, 7, 37, 30, 43, 17, 6, 27, 5, 36, 18, 26, 16, 42, 29, 35, 45, 32, 19, 46, 20, 31, 38, 47, 4, 41, 23, 9, 44, 34, 3, 25, 1, 28, 33, 40, 15, 21, 2, 22, 13, 24, 12, 10, 11, 14, 39, 8, 0]\n",
    "att48_cost=0\n",
    "for i in range(len(opt_seq)-1):\n",
    "    att48_cost += oridinal_dist [opt_seq[i]][opt_seq[i+1]]\n",
    "print(\"OPTIMUM COST:\", att48_cost)\n",
    "#routes=opt_seq\n",
    "'''"
   ]
  },
  {
   "cell_type": "code",
   "execution_count": null,
   "metadata": {},
   "outputs": [],
   "source": []
  }
 ],
 "metadata": {
  "kernelspec": {
   "display_name": "Python 3 (ipykernel)",
   "language": "python",
   "name": "python3"
  },
  "language_info": {
   "codemirror_mode": {
    "name": "ipython",
    "version": 3
   },
   "file_extension": ".py",
   "mimetype": "text/x-python",
   "name": "python",
   "nbconvert_exporter": "python",
   "pygments_lexer": "ipython3",
   "version": "3.12.2"
  }
 },
 "nbformat": 4,
 "nbformat_minor": 2
}
