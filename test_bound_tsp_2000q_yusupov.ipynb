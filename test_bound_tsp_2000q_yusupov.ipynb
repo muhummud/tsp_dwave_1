{
 "cells": [
  {
   "cell_type": "markdown",
   "metadata": {},
   "source": [
    "## TEST BOUNDARY OF **2000Q** (TSP QUBO)\n",
    "![](https://encrypted-tbn0.gstatic.com/images?q=tbn:ANd9GcQGuNq9SVIrMNopSCKdspSK1Kd5MumNS707FYWzqKwmwg&s)"
   ]
  },
  {
   "cell_type": "code",
   "execution_count": 1,
   "metadata": {},
   "outputs": [
    {
     "name": "stdout",
     "output_type": "stream",
     "text": [
      "1.26.4\n"
     ]
    }
   ],
   "source": [
    "import numpy\n",
    "print(numpy.__version__)"
   ]
  },
  {
   "cell_type": "code",
   "execution_count": 2,
   "metadata": {},
   "outputs": [],
   "source": [
    "import numpy as np\n",
    "import pandas as pd\n",
    "from scipy.spatial import distance_matrix\n",
    "import matplotlib.pyplot as plt\n",
    "import networkx as nx\n",
    "from sklearn.manifold import MDS\n",
    "\n",
    "def tsp_example(points):\n",
    "    np.random.seed(42)\n",
    "    df=pd.DataFrame({'x': np.random.randint(0, 10000, points), 'y': np.random.randint(0, 10000, points)})\n",
    "    return df"
   ]
  },
  {
   "cell_type": "markdown",
   "metadata": {},
   "source": [
    "### เก็บค่า `original_dist` (ORIGINAL_DISTANCE_MATRIX) เพื่อเขาไว้เป็น baseline ในการคำนวณ"
   ]
  },
  {
   "cell_type": "code",
   "execution_count": 3,
   "metadata": {},
   "outputs": [],
   "source": [
    "N_test = 8  # ลองเริ่มจาก 10 ... จนถึง 17 nodes ที่รัน 2000Q ไม่ได้\n",
    "df = tsp_example(N_test)\n",
    "d=distance_matrix(df[['x', 'y']].values, df[['x', 'y']].values, 2)"
   ]
  },
  {
   "cell_type": "markdown",
   "metadata": {},
   "source": [
    "### Draw problem state"
   ]
  },
  {
   "cell_type": "code",
   "execution_count": 4,
   "metadata": {},
   "outputs": [
    {
     "data": {
      "image/png": "[encoded data removed]",
      "text/plain": [
       "<Figure size 400x400 with 1 Axes>"
      ]
     },
     "metadata": {},
     "output_type": "display_data"
    }
   ],
   "source": [
    "plt.figure(figsize=(4, 4))\n",
    "\n",
    "for i in range(len(df)):\n",
    "    plt.scatter(df.iloc[i]['x'], df.iloc[i]['y'], c='red', s=8)\n",
    "    plt.text(df.iloc[i]['x']+0.01, df.iloc[i]['y']+0.01, f'{i}')\n",
    "\n",
    "plt.show()"
   ]
  },
  {
   "cell_type": "markdown",
   "metadata": {},
   "source": [
    "### QUBO Building"
   ]
  },
  {
   "cell_type": "code",
   "execution_count": 5,
   "metadata": {},
   "outputs": [],
   "source": [
    "class QuboPoly():\n",
    "    def __init__(self, n=1024):\n",
    "        self.array=np.zeros((n, n), dtype=int)\n",
    "        self.constant=0\n",
    "        self._size=n\n",
    "    \n",
    "    def add_term(self, i, j, c):\n",
    "        if i>=self._size or j>=self._size:\n",
    "            raise RuntimeError(\"Wrong index\")\n",
    "        self.array[i][j]+=c\n",
    "        \n",
    "    def add_constant(self, c):\n",
    "        self.constant+=c\n",
    "        \n",
    "    def sum(self, p):\n",
    "        if self._size != p._size:\n",
    "            raise RuntimeError(\"Wrong polynomial size\")\n",
    "        self.array+=p.array\n",
    "        self.constant+=p.constant\n",
    "        \n",
    "    def power(self):\n",
    "        a=np.diag(self.array)\n",
    "        self.array=np.outer(a, a) + 2*self.constant*np.diag(a) # convert back to NxN\n",
    "        self.constant**=2\n",
    "        \n",
    "    def multiply(self, p):\n",
    "        a=np.diag(self.array)\n",
    "        b=np.diag(p.array)\n",
    "        self.array=np.outer(a, b) + self.constant*np.diag(b) + p.constant*np.diag(a)\n",
    "        self.constant*=p.constant"
   ]
  },
  {
   "cell_type": "markdown",
   "metadata": {},
   "source": [
    "##### $ Obj=\\sum_{t=0}^{time-1}\\sum_{i=0}^{city}\\sum_{j=0}^{city}x_{i,t}\\cdot x_{j,t+1}\\cdot d_{i,j} + \\sum_{i=0}^{city}\\sum_{j=0}^{city}x_{i,t_{end}}\\cdot x_{j,0}\\cdot d_{i,j} $ (last terms for calculating Hamiltonian cycle)"
   ]
  },
  {
   "cell_type": "code",
   "execution_count": 6,
   "metadata": {},
   "outputs": [],
   "source": [
    "def objective_function():\n",
    "    qubo=QuboPoly(n_point*time_step)\n",
    "    # Ex. 3 cities iterate 0 1 2-> (0,1) (0,2) (2,0)\n",
    "    for t in range(time_step):\n",
    "        for i in range(n_point):\n",
    "            for j in range(n_point):\n",
    "                #print(city_index[i], city_index[j], t)\n",
    "                if t==time_step-1: \n",
    "                    qubo.add_term((i*time_step)+t, (j*time_step), d[i][j])  # last terms that the final destination reaches the original node\n",
    "                else:\n",
    "                    qubo.add_term((i*time_step)+t, (j*time_step)+t+1, d[i][j])\n",
    "    #print(qubo.array)\n",
    "    return qubo"
   ]
  },
  {
   "cell_type": "markdown",
   "metadata": {},
   "source": [
    "##### $ C_{1}=\\sum_{t=0}^{time}(\\sum_{i=0}^{city} x_{i, t}-1)^2 $ (one-hot constraint for column)"
   ]
  },
  {
   "cell_type": "code",
   "execution_count": 7,
   "metadata": {},
   "outputs": [],
   "source": [
    "def build_one_car_each_t(alpha):\n",
    "    qubo=QuboPoly(n_point*time_step)\n",
    "    for t in range(time_step):\n",
    "        tmp=QuboPoly(n_point*time_step)\n",
    "        for i in range(n_point):\n",
    "            #print((i*time_step)+t, t)\n",
    "            tmp.add_term((i*time_step)+t, (i*time_step)+t, alpha)\n",
    "        tmp.add_constant(-alpha)\n",
    "        tmp.power()\n",
    "        qubo.sum(tmp)\n",
    "        #print(tmp.array)\n",
    "    #print(qubo.array)\n",
    "    return qubo"
   ]
  },
  {
   "cell_type": "markdown",
   "metadata": {},
   "source": [
    "##### $ C_{2}=\\sum_{i=0}^{city}(\\sum_{t=0}^{time} x_{i, t}-1)^2 $ (one-hot constraint for row)"
   ]
  },
  {
   "cell_type": "code",
   "execution_count": 8,
   "metadata": {},
   "outputs": [],
   "source": [
    "def build_car_visit_once(alpha):\n",
    "    qubo=QuboPoly(n_point*time_step)\n",
    "    for i in range(n_point):\n",
    "        tmp=QuboPoly(n_point*time_step)\n",
    "        for t in range(time_step):\n",
    "            #print((i*time_step)+t, t)\n",
    "            tmp.add_term((i*time_step)+t, (i*time_step)+t, alpha)\n",
    "        tmp.add_constant(-alpha)\n",
    "        tmp.power()\n",
    "        qubo.sum(tmp)\n",
    "        #print(tmp.array)\n",
    "    #print(qubo.array)\n",
    "    return qubo"
   ]
  },
  {
   "cell_type": "markdown",
   "metadata": {},
   "source": [
    "#### Building $Q$ matrix"
   ]
  },
  {
   "cell_type": "code",
   "execution_count": 9,
   "metadata": {},
   "outputs": [
    {
     "name": "stdout",
     "output_type": "stream",
     "text": [
      "Gen. Q time 0.002807708000545972 seconds\n",
      "constant = 4000000\n",
      "Matrix size: 64 x 64\n"
     ]
    }
   ],
   "source": [
    "from time import monotonic\n",
    "start_time=monotonic()  # timer\n",
    "\n",
    "n_point, time_step=N_test, N_test\n",
    "Q=QuboPoly(N_test**2)\n",
    "Obj=objective_function()\n",
    "C1=build_one_car_each_t(500) # column-alpha\n",
    "C2=build_car_visit_once(500) # row-alpha\n",
    "Q.sum(Obj)\n",
    "Q.sum(C1)\n",
    "Q.sum(C2)\n",
    "\n",
    "print(f\"Gen. Q time {monotonic() - start_time} seconds\")\n",
    "print(\"constant =\", Q.constant)\n",
    "#print(Q.array)\n",
    "print(f\"Matrix size: {Q._size} x {Q._size}\")"
   ]
  },
  {
   "cell_type": "code",
   "execution_count": 10,
   "metadata": {},
   "outputs": [
    {
     "name": "stdout",
     "output_type": "stream",
     "text": [
      "# of terms = 1408\n",
      "# of total = 4096\n",
      "Terms = 0.34375%\n"
     ]
    }
   ],
   "source": [
    "from collections import defaultdict\n",
    "Q_dwave=defaultdict(int)\n",
    "\n",
    "for i in range(Q._size):\n",
    "    for j in range(Q._size):\n",
    "        if Q.array[i, j]!=0:\n",
    "            Q_dwave[(i, j)]=Q.array[i, j]\n",
    "\n",
    "print(\"# of terms =\", len(Q_dwave))\n",
    "print(\"# of total =\", Q._size**2)\n",
    "print(f'Terms = {len(Q_dwave)/(Q._size**2)}%')"
   ]
  },
  {
   "cell_type": "markdown",
   "metadata": {},
   "source": [
    "### Solve $x^TQx$ via D'Wave QM"
   ]
  },
  {
   "cell_type": "code",
   "execution_count": 11,
   "metadata": {},
   "outputs": [],
   "source": [
    "from dwave.system import DWaveSampler, EmbeddingComposite, LeapHybridSampler, CutOffComposite, AutoEmbeddingComposite\n",
    "from dimod import BinaryQuadraticModel\n",
    "import dwave_networkx as dnx\n",
    "import time\n",
    "\n",
    "bqm=BinaryQuadraticModel.from_qubo(Q_dwave)"
   ]
  },
  {
   "cell_type": "markdown",
   "metadata": {},
   "source": [
    "## **Quantum Annealer 2000Q**"
   ]
  },
  {
   "cell_type": "code",
   "execution_count": 12,
   "metadata": {},
   "outputs": [
    {
     "name": "stdout",
     "output_type": "stream",
     "text": [
      "D-wave time 16.416164583000864 seconds\n"
     ]
    }
   ],
   "source": [
    "start_time=monotonic()\n",
    "\n",
    "bqm_sampler=EmbeddingComposite(DWaveSampler())\n",
    "sampleset=bqm_sampler.sample(bqm, label=f'Nodes = {N_test}', num_reads=1000)\n",
    "\n",
    "#bqm_sampler=CutOffComposite(AutoEmbeddingComposite(DWaveSampler(solver={'qpu': True})), cutoff=0.75)\n",
    "#sampleset=bqm_sampler.sample(bqm, label=f'2000Q-7-TSP', num_reads=num_reads)\n",
    "\n",
    "print(f\"D-wave time {monotonic()-start_time} seconds\")"
   ]
  },
  {
   "cell_type": "code",
   "execution_count": 13,
   "metadata": {},
   "outputs": [
    {
     "name": "stdout",
     "output_type": "stream",
     "text": [
      "{'timing': {'qpu_sampling_time': 143040.0, 'qpu_anneal_time_per_sample': 20.0, 'qpu_readout_time_per_sample': 102.46, 'qpu_access_time': 158799.97, 'qpu_access_overhead_time': 3179.03, 'qpu_programming_time': 15759.97, 'qpu_delay_time_per_sample': 20.58, 'post_processing_overhead_time': 51.0, 'total_post_processing_time': 51.0}, 'problem_id': '0c213312-b7c4-438b-8cec-9c4124292e79', 'problem_label': 'Nodes = 8'}\n"
     ]
    }
   ],
   "source": [
    "print(sampleset.info)"
   ]
  },
  {
   "cell_type": "code",
   "execution_count": 14,
   "metadata": {},
   "outputs": [
    {
     "name": "stdout",
     "output_type": "stream",
     "text": [
      "Best Sample: {0: 0, 1: 0, 2: 0, 3: 0, 4: 0, 5: 1, 6: 0, 7: 0, 8: 0, 9: 0, 10: 0, 11: 0, 12: 1, 13: 0, 14: 0, 15: 0, 16: 0, 17: 0, 18: 0, 19: 1, 20: 0, 21: 0, 22: 0, 23: 0, 24: 0, 25: 1, 26: 0, 27: 0, 28: 0, 29: 0, 30: 0, 31: 0, 32: 0, 33: 0, 34: 1, 35: 0, 36: 0, 37: 0, 38: 0, 39: 0, 40: 0, 41: 0, 42: 0, 43: 0, 44: 0, 45: 0, 46: 0, 47: 1, 48: 1, 49: 0, 50: 0, 51: 0, 52: 0, 53: 0, 54: 0, 55: 0, 56: 0, 57: 0, 58: 0, 59: 0, 60: 0, 61: 0, 62: 1, 63: 0}\n",
      "Best Energy: -3954397.0\n"
     ]
    }
   ],
   "source": [
    "best_sample=sampleset.first.sample\n",
    "best_energy=sampleset.first.energy\n",
    "\n",
    "print(\"Best Sample:\", best_sample)\n",
    "print(\"Best Energy:\", best_energy)\n",
    "\n",
    "# map it back to answer\n",
    "solution=np.zeros(n_point*time_step, dtype=int)\n",
    "for index, var in enumerate(best_sample):\n",
    "    solution[index]=int(best_sample[var])"
   ]
  },
  {
   "cell_type": "code",
   "execution_count": 15,
   "metadata": {},
   "outputs": [
    {
     "name": "stdout",
     "output_type": "stream",
     "text": [
      "[[0 0 0 0 0 1 0 0]\n",
      " [0 0 0 0 1 0 0 0]\n",
      " [0 0 0 1 0 0 0 0]\n",
      " [0 1 0 0 0 0 0 0]\n",
      " [0 0 1 0 0 0 0 0]\n",
      " [0 0 0 0 0 0 0 1]\n",
      " [1 0 0 0 0 0 0 0]\n",
      " [0 0 0 0 0 0 1 0]]\n"
     ]
    }
   ],
   "source": [
    "#import sys\n",
    "#np.set_printoptions(threshold=sys.maxsize)\n",
    "#print(solution.reshape(n_point, time_step))\n",
    "solution=solution.reshape(n_point, time_step)\n",
    "print(solution)"
   ]
  },
  {
   "cell_type": "code",
   "execution_count": 16,
   "metadata": {},
   "outputs": [],
   "source": [
    "def check_c1():\n",
    "    for t in range(time_step):\n",
    "        cnt=0\n",
    "        for i in range(n_point):\n",
    "            cnt+=solution[i][t]\n",
    "        if cnt!=1:\n",
    "            return False\n",
    "    return True\n",
    "\n",
    "def check_c2():\n",
    "    for i in range(n_point):\n",
    "        cnt=0\n",
    "        for t in range(time_step):\n",
    "            cnt+=solution[i][t]\n",
    "        if cnt!=1:\n",
    "            return False\n",
    "    return True"
   ]
  },
  {
   "cell_type": "code",
   "execution_count": 17,
   "metadata": {},
   "outputs": [
    {
     "name": "stdout",
     "output_type": "stream",
     "text": [
      "x5 = 1 (city: 0, time: 5)\n",
      "x12 = 1 (city: 1, time: 4)\n",
      "x19 = 1 (city: 2, time: 3)\n",
      "x25 = 1 (city: 3, time: 1)\n",
      "x34 = 1 (city: 4, time: 2)\n",
      "x47 = 1 (city: 5, time: 7)\n",
      "x48 = 1 (city: 6, time: 0)\n",
      "x62 = 1 (city: 7, time: 6)\n",
      "[6, 3, 4, 2, 1, 0, 7, 5, 6]\n",
      "Number of visited: 9\n",
      "Number of unique: 8\n",
      "C1: True\n",
      "C2: True\n"
     ]
    }
   ],
   "source": [
    "routes=[0]*time_step\n",
    "for index, (key, val) in enumerate(best_sample.items()):\n",
    "    #print(index, key, val)\n",
    "    if val > 0.5:\n",
    "        print(f'x{index} = {val} (city: {int(index/time_step)}, time: {index%time_step})')\n",
    "        routes[index%time_step]=int(index/time_step)\n",
    "\n",
    "# append for drawing graph with Hamiltonian cycle by hand\n",
    "routes.append(routes[0])\n",
    "print(routes)\n",
    "print(\"Number of visited:\", len(routes))\n",
    "print(\"Number of unique:\", len(set(routes)))\n",
    "print(\"C1:\", check_c1())\n",
    "print(\"C2:\", check_c2())"
   ]
  },
  {
   "cell_type": "markdown",
   "metadata": {},
   "source": [
    "#### Visualization"
   ]
  },
  {
   "cell_type": "code",
   "execution_count": 30,
   "metadata": {},
   "outputs": [
    {
     "name": "stdout",
     "output_type": "stream",
     "text": [
      "Total cost: 45606.954283665385\n"
     ]
    },
    {
     "data": {
      "image/png": "[encoded data removed]",
      "text/plain": [
       "<Figure size 700x700 with 1 Axes>"
      ]
     },
     "metadata": {},
     "output_type": "display_data"
    }
   ],
   "source": [
    "plt.figure(figsize=(7, 7))\n",
    "\n",
    "cost = 0\n",
    "for i in range(len(routes)-1):\n",
    "    cost += d[routes[i]][routes[i+1]]  # DON'T FORGET TO USE THE ORIGINAL_DISTANCE_MATRIX EVERYTIME YOU MAPPED BACK TO THE ANSWER\n",
    "print(\"Total cost:\", cost)\n",
    "\n",
    "for i in range(len(d[0])):\n",
    "    plt.scatter(df.iloc[i]['x'], df.iloc[i]['y'], c='red')\n",
    "    plt.text(df.iloc[i]['x']+0.88, df.iloc[i]['y']+0.88, f'{i}')\n",
    "\n",
    "for i in range(len(routes)-1):\n",
    "    x1, y1=df.iloc[routes[i]]['x'], df.iloc[routes[i]]['y']\n",
    "    x2, y2=df.iloc[routes[i+1]]['x'], df.iloc[routes[i+1]]['y']\n",
    "    plt.plot([x1, x2], [y1, y2], c='orchid')\n",
    "\n",
    "    mid_x=(x1+x2)/2\n",
    "    mid_y=(y1+y2)/2\n",
    "    dx=(x2-x1)*0.05  # Offset along x-direction\n",
    "    dy=(y2-y1)*0.05  # Offset along y-direction\n",
    "    \n",
    "    plt.annotate('', xy=(mid_x + dx, mid_y + dy), xytext=(mid_x, mid_y), arrowprops=dict(arrowstyle='simple, tail_width=0.5, head_width=0.69, head_length=0.69', color='orchid'))\n",
    "    plt.title(f\"[2000Q] Total distance: {round(cost, 4)}\")\n",
    "plt.show()"
   ]
  },
  {
   "cell_type": "code",
   "execution_count": null,
   "metadata": {},
   "outputs": [],
   "source": []
  }
 ],
 "metadata": {
  "kernelspec": {
   "display_name": "Python 3 (ipykernel)",
   "language": "python",
   "name": "python3"
  },
  "language_info": {
   "codemirror_mode": {
    "name": "ipython",
    "version": 3
   },
   "file_extension": ".py",
   "mimetype": "text/x-python",
   "name": "python",
   "nbconvert_exporter": "python",
   "pygments_lexer": "ipython3",
   "version": "3.12.2"
  }
 },
 "nbformat": 4,
 "nbformat_minor": 2
}
